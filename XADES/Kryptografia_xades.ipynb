{
 "nbformat": 4,
 "nbformat_minor": 0,
 "metadata": {
  "colab": {
   "provenance": []
  },
  "kernelspec": {
   "name": "python3",
   "language": "python",
   "display_name": "Python 3 (ipykernel)"
  },
  "language_info": {
   "name": "python"
  }
 },
 "cells": [
  {
   "cell_type": "markdown",
   "source": [
    "### Wstęp\n",
    "Tematem laboratoriów jest kryptografia praktyczna. Będzie więc bardzo praktycznie. Na początek kilka niezbędnych informacji:\n",
    "- XADES to format podpisu cyfrowego zapisywanego do pliku xml. Jest to także standard przyjęty przez UE. XADES wystepuje w kilku wersjach, nam wystarczy type **enveloped**. Strukturę podpisu można zobaczyć [tu](https://www.w3.org/TR/XAdES/).\n",
    "- KSeF to inaczej Krajowy System e-Faktur. System ten udostępnia [testowe API](https://ksef-test.mf.gov.pl/). W testowym API wolno wykorzystywać certyfikaty typu self-signed. Generalnie KSeF jest system do którego się uploaduje faktury. Na jego podstawie możemy się jednak sporo nauczyć o praktycznych aspektach kryptografii.\n",
    "\n",
    "Co nam będzie potrzebne:\n",
    "- szyfr AES i RSA\n",
    "- definicja podpisu cyfrowego\n",
    "- podstawy http (post, get, put)\n",
    "- znajomość formatów JSON, xsd i xml oraz serializację do tych formatów\n",
    "- openssl do wygenerowania certyfikatów\n",
    "\n",
    "Zaimportujmy najpierw niezbędne biblioteki."
   ],
   "metadata": {
    "id": "A-vxxh7j2fvI"
   }
  },
  {
   "cell_type": "code",
   "execution_count": 1,
   "metadata": {
    "id": "-qfdtUNy2dS8",
    "ExecuteTime": {
     "end_time": "2024-03-25T14:10:10.271784600Z",
     "start_time": "2024-03-25T14:09:38.647498300Z"
    }
   },
   "outputs": [
    {
     "name": "stdout",
     "output_type": "stream",
     "text": [
      "Requirement already satisfied: xsdata[cli,lxml,soap] in c:\\users\\piotr\\appdata\\local\\programs\\python\\python310\\lib\\site-packages (24.3.1)\n",
      "Requirement already satisfied: typing-extensions in c:\\users\\piotr\\appdata\\local\\programs\\python\\python310\\lib\\site-packages (from xsdata[cli,lxml,soap]) (4.8.0)\n",
      "Collecting lxml>=4.5.0 (from xsdata[cli,lxml,soap])\n",
      "  Downloading lxml-5.1.0-cp310-cp310-win_amd64.whl.metadata (3.6 kB)\n",
      "Requirement already satisfied: requests in c:\\users\\piotr\\appdata\\local\\programs\\python\\python310\\lib\\site-packages (from xsdata[cli,lxml,soap]) (2.31.0)\n",
      "Requirement already satisfied: click>=5.0 in c:\\users\\piotr\\appdata\\local\\programs\\python\\python310\\lib\\site-packages (from xsdata[cli,lxml,soap]) (8.1.7)\n",
      "Requirement already satisfied: click-default-group>=1.2 in c:\\users\\piotr\\appdata\\local\\programs\\python\\python310\\lib\\site-packages (from xsdata[cli,lxml,soap]) (1.2.4)\n",
      "Collecting docformatter>=1.7.2 (from xsdata[cli,lxml,soap])\n",
      "  Downloading docformatter-1.7.5-py3-none-any.whl.metadata (8.3 kB)\n",
      "Requirement already satisfied: jinja2>=2.10 in c:\\users\\piotr\\appdata\\local\\programs\\python\\python310\\lib\\site-packages (from xsdata[cli,lxml,soap]) (3.1.2)\n",
      "Collecting toposort>=1.5 (from xsdata[cli,lxml,soap])\n",
      "  Downloading toposort-1.10-py3-none-any.whl.metadata (4.1 kB)\n",
      "Collecting ruff>=0.3.0 (from xsdata[cli,lxml,soap])\n",
      "  Downloading ruff-0.3.4-py3-none-win_amd64.whl.metadata (24 kB)\n",
      "Requirement already satisfied: colorama in c:\\users\\piotr\\appdata\\local\\programs\\python\\python310\\lib\\site-packages (from click>=5.0->xsdata[cli,lxml,soap]) (0.4.6)\n",
      "Requirement already satisfied: charset_normalizer<4.0.0,>=3.0.0 in c:\\users\\piotr\\appdata\\local\\programs\\python\\python310\\lib\\site-packages (from docformatter>=1.7.2->xsdata[cli,lxml,soap]) (3.3.2)\n",
      "Collecting untokenize<0.2.0,>=0.1.1 (from docformatter>=1.7.2->xsdata[cli,lxml,soap])\n",
      "  Downloading untokenize-0.1.1.tar.gz (3.1 kB)\n",
      "  Preparing metadata (setup.py): started\n",
      "  Preparing metadata (setup.py): finished with status 'done'\n",
      "Requirement already satisfied: MarkupSafe>=2.0 in c:\\users\\piotr\\appdata\\local\\programs\\python\\python310\\lib\\site-packages (from jinja2>=2.10->xsdata[cli,lxml,soap]) (2.1.3)\n",
      "Requirement already satisfied: idna<4,>=2.5 in c:\\users\\piotr\\appdata\\local\\programs\\python\\python310\\lib\\site-packages (from requests->xsdata[cli,lxml,soap]) (3.6)\n",
      "Requirement already satisfied: urllib3<3,>=1.21.1 in c:\\users\\piotr\\appdata\\local\\programs\\python\\python310\\lib\\site-packages (from requests->xsdata[cli,lxml,soap]) (2.1.0)\n",
      "Requirement already satisfied: certifi>=2017.4.17 in c:\\users\\piotr\\appdata\\local\\programs\\python\\python310\\lib\\site-packages (from requests->xsdata[cli,lxml,soap]) (2023.11.17)\n",
      "Downloading docformatter-1.7.5-py3-none-any.whl (32 kB)\n",
      "Downloading lxml-5.1.0-cp310-cp310-win_amd64.whl (3.9 MB)\n",
      "   ---------------------------------------- 0.0/3.9 MB ? eta -:--:--\n",
      "   ---------------------------------------- 0.0/3.9 MB 660.6 kB/s eta 0:00:06\n",
      "    --------------------------------------- 0.1/3.9 MB 1.1 MB/s eta 0:00:04\n",
      "   - -------------------------------------- 0.2/3.9 MB 1.3 MB/s eta 0:00:03\n",
      "   -- ------------------------------------- 0.3/3.9 MB 1.6 MB/s eta 0:00:03\n",
      "   ---- ----------------------------------- 0.4/3.9 MB 1.7 MB/s eta 0:00:03\n",
      "   ---- ----------------------------------- 0.4/3.9 MB 1.8 MB/s eta 0:00:02\n",
      "   ---- ----------------------------------- 0.5/3.9 MB 1.5 MB/s eta 0:00:03\n",
      "   ----- ---------------------------------- 0.6/3.9 MB 1.5 MB/s eta 0:00:03\n",
      "   ------ --------------------------------- 0.6/3.9 MB 1.5 MB/s eta 0:00:03\n",
      "   ------ --------------------------------- 0.7/3.9 MB 1.4 MB/s eta 0:00:03\n",
      "   ------- -------------------------------- 0.7/3.9 MB 1.4 MB/s eta 0:00:03\n",
      "   -------- ------------------------------- 0.8/3.9 MB 1.4 MB/s eta 0:00:03\n",
      "   -------- ------------------------------- 0.8/3.9 MB 1.3 MB/s eta 0:00:03\n",
      "   --------- ------------------------------ 0.9/3.9 MB 1.4 MB/s eta 0:00:03\n",
      "   ---------- ----------------------------- 1.1/3.9 MB 1.5 MB/s eta 0:00:02\n",
      "   ------------ --------------------------- 1.2/3.9 MB 1.6 MB/s eta 0:00:02\n",
      "   -------------- ------------------------- 1.4/3.9 MB 1.7 MB/s eta 0:00:02\n",
      "   --------------- ------------------------ 1.5/3.9 MB 1.8 MB/s eta 0:00:02\n",
      "   ---------------- ----------------------- 1.7/3.9 MB 1.9 MB/s eta 0:00:02\n",
      "   ------------------- -------------------- 1.9/3.9 MB 2.0 MB/s eta 0:00:01\n",
      "   --------------------- ------------------ 2.1/3.9 MB 2.1 MB/s eta 0:00:01\n",
      "   ---------------------- ----------------- 2.2/3.9 MB 2.0 MB/s eta 0:00:01\n",
      "   ------------------------ --------------- 2.3/3.9 MB 2.1 MB/s eta 0:00:01\n",
      "   ------------------------- -------------- 2.5/3.9 MB 2.2 MB/s eta 0:00:01\n",
      "   --------------------------- ------------ 2.7/3.9 MB 2.3 MB/s eta 0:00:01\n",
      "   ----------------------------- ---------- 2.9/3.9 MB 2.4 MB/s eta 0:00:01\n",
      "   -------------------------------- ------- 3.1/3.9 MB 2.4 MB/s eta 0:00:01\n",
      "   ---------------------------------- ----- 3.3/3.9 MB 2.5 MB/s eta 0:00:01\n",
      "   ----------------------------------- ---- 3.5/3.9 MB 2.6 MB/s eta 0:00:01\n",
      "   ------------------------------------- -- 3.7/3.9 MB 2.6 MB/s eta 0:00:01\n",
      "   -------------------------------------- - 3.8/3.9 MB 2.6 MB/s eta 0:00:01\n",
      "   ---------------------------------------- 3.9/3.9 MB 2.6 MB/s eta 0:00:00\n",
      "Downloading ruff-0.3.4-py3-none-win_amd64.whl (8.4 MB)\n",
      "   ---------------------------------------- 0.0/8.4 MB ? eta -:--:--\n",
      "   ---------------------------------------- 0.1/8.4 MB 2.6 MB/s eta 0:00:04\n",
      "   ---------------------------------------- 0.1/8.4 MB 2.6 MB/s eta 0:00:04\n",
      "    --------------------------------------- 0.1/8.4 MB 1.2 MB/s eta 0:00:07\n",
      "    --------------------------------------- 0.2/8.4 MB 952.6 kB/s eta 0:00:09\n",
      "   -- ------------------------------------- 0.4/8.4 MB 1.9 MB/s eta 0:00:05\n",
      "   --- ------------------------------------ 0.7/8.4 MB 2.5 MB/s eta 0:00:04\n",
      "   --- ------------------------------------ 0.8/8.4 MB 2.6 MB/s eta 0:00:03\n",
      "   ----- ---------------------------------- 1.1/8.4 MB 3.1 MB/s eta 0:00:03\n",
      "   ------ --------------------------------- 1.4/8.4 MB 3.3 MB/s eta 0:00:03\n",
      "   -------- ------------------------------- 1.7/8.4 MB 3.6 MB/s eta 0:00:02\n",
      "   -------- ------------------------------- 1.8/8.4 MB 3.5 MB/s eta 0:00:02\n",
      "   ---------- ----------------------------- 2.1/8.4 MB 3.7 MB/s eta 0:00:02\n",
      "   ----------- ---------------------------- 2.3/8.4 MB 3.8 MB/s eta 0:00:02\n",
      "   ------------ --------------------------- 2.6/8.4 MB 4.1 MB/s eta 0:00:02\n",
      "   -------------- ------------------------- 3.0/8.4 MB 4.3 MB/s eta 0:00:02\n",
      "   --------------- ------------------------ 3.3/8.4 MB 4.4 MB/s eta 0:00:02\n",
      "   ----------------- ---------------------- 3.6/8.4 MB 4.5 MB/s eta 0:00:02\n",
      "   ------------------ --------------------- 3.9/8.4 MB 4.6 MB/s eta 0:00:02\n",
      "   ------------------- -------------------- 4.1/8.4 MB 4.6 MB/s eta 0:00:01\n",
      "   --------------------- ------------------ 4.5/8.4 MB 4.8 MB/s eta 0:00:01\n",
      "   --------------------- ------------------ 4.5/8.4 MB 4.6 MB/s eta 0:00:01\n",
      "   ---------------------- ----------------- 4.8/8.4 MB 4.6 MB/s eta 0:00:01\n",
      "   ------------------------ --------------- 5.1/8.4 MB 4.7 MB/s eta 0:00:01\n",
      "   ------------------------ --------------- 5.3/8.4 MB 4.7 MB/s eta 0:00:01\n",
      "   ------------------------- -------------- 5.4/8.4 MB 4.6 MB/s eta 0:00:01\n",
      "   -------------------------- ------------- 5.6/8.4 MB 4.6 MB/s eta 0:00:01\n",
      "   --------------------------- ------------ 5.7/8.4 MB 4.5 MB/s eta 0:00:01\n",
      "   ---------------------------- ----------- 5.9/8.4 MB 4.5 MB/s eta 0:00:01\n",
      "   ------------------------------ --------- 6.4/8.4 MB 4.7 MB/s eta 0:00:01\n",
      "   ------------------------------- -------- 6.7/8.4 MB 4.8 MB/s eta 0:00:01\n",
      "   --------------------------------- ------ 7.0/8.4 MB 4.8 MB/s eta 0:00:01\n",
      "   ---------------------------------- ----- 7.3/8.4 MB 4.8 MB/s eta 0:00:01\n",
      "   ----------------------------------- ---- 7.6/8.4 MB 4.9 MB/s eta 0:00:01\n",
      "   ------------------------------------- -- 7.9/8.4 MB 4.9 MB/s eta 0:00:01\n",
      "   -------------------------------------- - 8.1/8.4 MB 4.9 MB/s eta 0:00:01\n",
      "   ---------------------------------------  8.4/8.4 MB 5.0 MB/s eta 0:00:01\n",
      "   ---------------------------------------- 8.4/8.4 MB 4.9 MB/s eta 0:00:00\n",
      "Downloading toposort-1.10-py3-none-any.whl (8.5 kB)\n",
      "Building wheels for collected packages: untokenize\n",
      "  Building wheel for untokenize (setup.py): started\n",
      "  Building wheel for untokenize (setup.py): finished with status 'done'\n",
      "  Created wheel for untokenize: filename=untokenize-0.1.1-py3-none-any.whl size=2890 sha256=625fb917d290f74634726879a1c0b723371a75bacb97acc39f97b484b4f9cefc\n",
      "  Stored in directory: c:\\users\\piotr\\appdata\\local\\pip\\cache\\wheels\\dd\\b6\\d4\\187059c19a28026b81e54afd260a63aab2e7ccddf2e05977eb\n",
      "Successfully built untokenize\n",
      "Installing collected packages: untokenize, toposort, ruff, lxml, docformatter\n",
      "Successfully installed docformatter-1.7.5 lxml-5.1.0 ruff-0.3.4 toposort-1.10 untokenize-0.1.1\n",
      "Collecting google-colab-shell\n",
      "  Downloading google-colab-shell-0.2.tar.gz (4.2 kB)\n",
      "  Preparing metadata (setup.py): started\n",
      "  Preparing metadata (setup.py): finished with status 'done'\n",
      "Building wheels for collected packages: google-colab-shell\n",
      "  Building wheel for google-colab-shell (setup.py): started\n",
      "  Building wheel for google-colab-shell (setup.py): finished with status 'done'\n",
      "  Created wheel for google-colab-shell: filename=google_colab_shell-0.2-py3-none-any.whl size=4131 sha256=4a9b32fbf20fcadde75c76eaf571f3bbf0e0e816d5b20fc476bd295c6975d213\n",
      "  Stored in directory: c:\\users\\piotr\\appdata\\local\\pip\\cache\\wheels\\f9\\36\\65\\95dd4599be065418a9fe1f482674c8e716ce540f3f484681d2\n",
      "Successfully built google-colab-shell\n",
      "Installing collected packages: google-colab-shell\n",
      "Successfully installed google-colab-shell-0.2\n",
      "Collecting pycryptodome\n",
      "  Downloading pycryptodome-3.20.0-cp35-abi3-win_amd64.whl.metadata (3.4 kB)\n",
      "Downloading pycryptodome-3.20.0-cp35-abi3-win_amd64.whl (1.8 MB)\n",
      "   ---------------------------------------- 0.0/1.8 MB ? eta -:--:--\n",
      "   -- ------------------------------------- 0.1/1.8 MB 2.4 MB/s eta 0:00:01\n",
      "   ------ --------------------------------- 0.3/1.8 MB 2.8 MB/s eta 0:00:01\n",
      "   ----------- ---------------------------- 0.5/1.8 MB 3.4 MB/s eta 0:00:01\n",
      "   ------------------ --------------------- 0.8/1.8 MB 4.7 MB/s eta 0:00:01\n",
      "   -------------------------- ------------- 1.2/1.8 MB 4.9 MB/s eta 0:00:01\n",
      "   -------------------------------- ------- 1.4/1.8 MB 5.1 MB/s eta 0:00:01\n",
      "   ---------------------------------------  1.8/1.8 MB 5.3 MB/s eta 0:00:01\n",
      "   ---------------------------------------- 1.8/1.8 MB 5.1 MB/s eta 0:00:00\n",
      "Installing collected packages: pycryptodome\n",
      "Successfully installed pycryptodome-3.20.0\n",
      "Requirement already satisfied: pem in c:\\users\\piotr\\appdata\\local\\programs\\python\\python310\\lib\\site-packages (23.1.0)\n",
      "Collecting signxml\n",
      "  Downloading signxml-3.2.2-py3-none-any.whl.metadata (17 kB)\n",
      "Requirement already satisfied: lxml<6,>=4.5.0 in c:\\users\\piotr\\appdata\\local\\programs\\python\\python310\\lib\\site-packages (from signxml) (5.1.0)\n",
      "Collecting cryptography>=3.4.8 (from signxml)\n",
      "  Downloading cryptography-42.0.5-cp39-abi3-win_amd64.whl.metadata (5.4 kB)\n",
      "Collecting pyOpenSSL>=19.0.0 (from signxml)\n",
      "  Downloading pyOpenSSL-24.1.0-py3-none-any.whl.metadata (12 kB)\n",
      "Requirement already satisfied: certifi>=2019.11.28 in c:\\users\\piotr\\appdata\\local\\programs\\python\\python310\\lib\\site-packages (from signxml) (2023.11.17)\n",
      "Requirement already satisfied: cffi>=1.12 in c:\\users\\piotr\\appdata\\local\\programs\\python\\python310\\lib\\site-packages (from cryptography>=3.4.8->signxml) (1.16.0)\n",
      "Requirement already satisfied: pycparser in c:\\users\\piotr\\appdata\\local\\programs\\python\\python310\\lib\\site-packages (from cffi>=1.12->cryptography>=3.4.8->signxml) (2.21)\n",
      "Downloading signxml-3.2.2-py3-none-any.whl (58 kB)\n",
      "   ---------------------------------------- 0.0/58.2 kB ? eta -:--:--\n",
      "   ----------------------------------- ---- 51.2/58.2 kB 1.3 MB/s eta 0:00:01\n",
      "   ---------------------------------------- 58.2/58.2 kB 1.0 MB/s eta 0:00:00\n",
      "Downloading cryptography-42.0.5-cp39-abi3-win_amd64.whl (2.9 MB)\n",
      "   ---------------------------------------- 0.0/2.9 MB ? eta -:--:--\n",
      "   -- ------------------------------------- 0.2/2.9 MB 5.3 MB/s eta 0:00:01\n",
      "   ----- ---------------------------------- 0.4/2.9 MB 4.6 MB/s eta 0:00:01\n",
      "   ------- -------------------------------- 0.6/2.9 MB 4.5 MB/s eta 0:00:01\n",
      "   ----------- ---------------------------- 0.8/2.9 MB 4.6 MB/s eta 0:00:01\n",
      "   ------------- -------------------------- 1.0/2.9 MB 4.3 MB/s eta 0:00:01\n",
      "   --------------- ------------------------ 1.1/2.9 MB 4.3 MB/s eta 0:00:01\n",
      "   ------------------ --------------------- 1.3/2.9 MB 4.2 MB/s eta 0:00:01\n",
      "   -------------------- ------------------- 1.5/2.9 MB 4.1 MB/s eta 0:00:01\n",
      "   ----------------------- ---------------- 1.7/2.9 MB 4.1 MB/s eta 0:00:01\n",
      "   ------------------------- -------------- 1.8/2.9 MB 4.0 MB/s eta 0:00:01\n",
      "   --------------------------- ------------ 2.0/2.9 MB 4.1 MB/s eta 0:00:01\n",
      "   ------------------------------ --------- 2.2/2.9 MB 4.0 MB/s eta 0:00:01\n",
      "   --------------------------------- ------ 2.4/2.9 MB 4.0 MB/s eta 0:00:01\n",
      "   ----------------------------------- ---- 2.6/2.9 MB 4.0 MB/s eta 0:00:01\n",
      "   -------------------------------------- - 2.8/2.9 MB 4.1 MB/s eta 0:00:01\n",
      "   ---------------------------------------- 2.9/2.9 MB 4.0 MB/s eta 0:00:00\n",
      "Downloading pyOpenSSL-24.1.0-py3-none-any.whl (56 kB)\n",
      "   ---------------------------------------- 0.0/56.9 kB ? eta -:--:--\n",
      "   ---------------------------------------- 56.9/56.9 kB 2.9 MB/s eta 0:00:00\n",
      "Installing collected packages: cryptography, pyOpenSSL, signxml\n",
      "Successfully installed cryptography-42.0.5 pyOpenSSL-24.1.0 signxml-3.2.2\n"
     ]
    }
   ],
   "source": [
    "!pip install xsdata[cli,lxml,soap]\n",
    "!pip install google-colab-shell\n",
    "!pip install pycryptodome\n",
    "!pip install pem\n",
    "!pip install signxml"
   ]
  },
  {
   "cell_type": "markdown",
   "source": [
    "### Generowanie klas\n",
    "\n",
    "Przenieś pliki: initRequest.xsd oraz authRequest.xsd do folderu głównego w colabie. Wywołaj w poniższej konsoli polecenie \"xsdata generate ./\""
   ],
   "metadata": {
    "id": "h3fULWER5CwE"
   }
  },
  {
   "cell_type": "code",
   "source": [
    "from google_colab_shell import getshell\n",
    "\n",
    "getshell()\n",
    "getshell(height=400)"
   ],
   "metadata": {
    "id": "SKmyKH-W5mIg",
    "ExecuteTime": {
     "end_time": "2024-03-25T14:24:01.626016300Z",
     "start_time": "2024-03-25T14:24:01.268973800Z"
    }
   },
   "execution_count": 2,
   "outputs": [
    {
     "ename": "ModuleNotFoundError",
     "evalue": "No module named 'google.colab'",
     "output_type": "error",
     "traceback": [
      "\u001b[1;31m---------------------------------------------------------------------------\u001b[0m",
      "\u001b[1;31mModuleNotFoundError\u001b[0m                       Traceback (most recent call last)",
      "Cell \u001b[1;32mIn[2], line 1\u001b[0m\n\u001b[1;32m----> 1\u001b[0m \u001b[38;5;28;01mfrom\u001b[39;00m \u001b[38;5;21;01mgoogle_colab_shell\u001b[39;00m \u001b[38;5;28;01mimport\u001b[39;00m getshell\n\u001b[0;32m      2\u001b[0m getshell()\n\u001b[0;32m      3\u001b[0m getshell(height\u001b[38;5;241m=\u001b[39m\u001b[38;5;241m400\u001b[39m)\n",
      "File \u001b[1;32m~\\AppData\\Local\\Programs\\Python\\Python310\\lib\\site-packages\\google_colab_shell\\__init__.py:11\u001b[0m\n\u001b[0;32m      3\u001b[0m \u001b[38;5;124;03m\"\"\"\u001b[39;00m\n\u001b[0;32m      4\u001b[0m \u001b[38;5;124;03mName       : __init__.py\u001b[39;00m\n\u001b[0;32m      5\u001b[0m \u001b[38;5;124;03mAuthor     : Kuldeep Singh Sidhu\u001b[39;00m\n\u001b[0;32m      6\u001b[0m \u001b[38;5;124;03mGitHub     : https://github.com/singhsidhukuldeep\u001b[39;00m\n\u001b[0;32m      7\u001b[0m \u001b[38;5;124;03mDescription: \u001b[39;00m\n\u001b[0;32m      8\u001b[0m \u001b[38;5;124;03m\"\"\"\u001b[39;00m\n\u001b[0;32m     10\u001b[0m \u001b[38;5;28;01mfrom\u001b[39;00m \u001b[38;5;21;01mIPython\u001b[39;00m\u001b[38;5;21;01m.\u001b[39;00m\u001b[38;5;21;01mdisplay\u001b[39;00m \u001b[38;5;28;01mimport\u001b[39;00m JSON, HTML, IFrame\n\u001b[1;32m---> 11\u001b[0m \u001b[38;5;28;01mfrom\u001b[39;00m \u001b[38;5;21;01mgoogle\u001b[39;00m\u001b[38;5;21;01m.\u001b[39;00m\u001b[38;5;21;01mcolab\u001b[39;00m \u001b[38;5;28;01mimport\u001b[39;00m output\n\u001b[0;32m     12\u001b[0m \u001b[38;5;28;01mfrom\u001b[39;00m \u001b[38;5;21;01msubprocess\u001b[39;00m \u001b[38;5;28;01mimport\u001b[39;00m getoutput\n\u001b[0;32m     13\u001b[0m \u001b[38;5;28;01mimport\u001b[39;00m \u001b[38;5;21;01mos\u001b[39;00m\n",
      "\u001b[1;31mModuleNotFoundError\u001b[0m: No module named 'google.colab'"
     ]
    }
   ]
  },
  {
   "cell_type": "markdown",
   "source": [
    "Zaimportuj wygenerowane klasy:"
   ],
   "metadata": {
    "id": "YOPjLbJs51Ht"
   }
  },
  {
   "cell_type": "code",
   "source": [
    "from generated import *\n",
    "from generated.online.types.pkg_2021.pkg_10.pkg_01.pkg_0001.online_types import *\n",
    "from generated.types.pkg_2021.pkg_10.pkg_01.pkg_0001.gtw_types import *"
   ],
   "metadata": {
    "id": "X_T3e4Zr54S4"
   },
   "execution_count": null,
   "outputs": []
  },
  {
   "cell_type": "markdown",
   "source": [
    "### Inicjalizacja szyfrów\n",
    "\n",
    "KSeF daje możliwość wymiany materiału kryptograficznego przy nazwiązaniu sesji. Idea jest taka, że wysyłane faktury będziemy szyfrować własnym szyfrem AES. Ale musimy wpierw wysłać jakoś do systemu nasz klucz. Do tego posłuży klucz publiczny RSA.\n",
    "\n",
    "Będziemy musieli wykonać następujące czynnosći:\n",
    "1. Wygenerować klucz AES (32B) oraz wektor inicjalizujący IV (16B). Mogą to być po prostu losowe bajty wygenerowane z uzyciem get_random_bytes.\n",
    "2. Przerzucić do projektu klucz publiczny RSA (publicKey.pem). Jest to plik ze [strony testowej KSeF](https://ksef-test.mf.gov.pl/) z zakładki \"klucz publiczny środowiska testowego (PEM)\".\n",
    "3. Odczytać z tego pliku klucz publiczny RSA i użyć go do zaszyfrowania wygenerowanych kluczy AES.\n",
    "4. Zakodować klucz i IV jako stringi Base64.\n",
    "\n",
    "Uzupełnij brakujące fragmenty w kodzie poniżej. Dokumentacja do szyfrowania RSA jest [tutaj](https://pycryptodome.readthedocs.io/en/latest/src/cipher/pkcs1_v1_5.html)."
   ],
   "metadata": {
    "id": "LIKhrw5o6E5X"
   }
  },
  {
   "cell_type": "code",
   "source": [
    "import pem\n",
    "from Crypto.Random import get_random_bytes\n",
    "import base64\n",
    "from Crypto.Cipher import PKCS1_v1_5\n",
    "from Crypto.PublicKey import RSA\n",
    "\n",
    "# 32 random bytes\n",
    "aes_key =\n",
    "\n",
    "# 16 random bytes\n",
    "aes_iv =\n",
    "\n",
    "with open('publicKey.pem', 'rb') as f:\n",
    "   certs = pem.parse(f.read())\n",
    "print(certs[0].decoded_payload)\n",
    "\n",
    "rsa_key =\n",
    "print(rsa_key.public_key)\n",
    "cipher =\n",
    "\n",
    "# cipher the key\n",
    "aes_key_ciphered =\n",
    "aes_key_base64 =\n",
    "\n",
    "# convert to base64 string\n",
    "aes_iv_base64 =\n",
    "\n",
    "print(aes_key_base64)\n",
    "print(aes_iv_base64)\n"
   ],
   "metadata": {
    "id": "ktukPZ9c8jta"
   },
   "execution_count": null,
   "outputs": []
  },
  {
   "cell_type": "markdown",
   "source": [
    "### Nawiązanie sesji\n",
    "\n",
    "Aby rozpocząć połączenie wysyłamy JSON-a AuthorisationChallenge zgodnego ze specyfikacją zawartą w pliku KSeF-online.yaml. Będziemy się identyfikować NIPem. Możesz go zmienić, ale uwaga, bo nawet w środowisku testowym jest obecna walidacja NIPu. Jeżeli chcesz go zmienić, uzyj jakiegoś generatora."
   ],
   "metadata": {
    "id": "Wz0aElT_9RZ6"
   }
  },
  {
   "cell_type": "code",
   "source": [
    "import json\n",
    "import requests\n",
    "\n",
    "a = {}\n",
    "a[\"contextIdentifier\"] = {\"type\": \"onip\", \"identifier\": \"8363695362\"}\n",
    "y = json.dumps(a)\n",
    "print(y)\n",
    "headers = {\"Content-Type\": \"application/json\"}\n",
    "r = requests.post(\n",
    "    \"https://ksef-test.mf.gov.pl/api/online/Session/AuthorisationChallenge\",\n",
    "    data=y,\n",
    "    headers=headers,\n",
    ")\n",
    "c = json.loads(r.content)\n",
    "print(c)"
   ],
   "metadata": {
    "id": "XeYZ1gqW95cn"
   },
   "execution_count": null,
   "outputs": []
  },
  {
   "cell_type": "markdown",
   "source": [
    "W odpowiedzi dostajemy również JSON-a z informacją o tym jaki numer sesji nam przydzielono (challenge). Sesja jednak nie jest jeszcze nawiązana, jedynie zaznaczyliśmy w systemie, że takową chcemy nawiązać. Teraz zrobi się nieco trudniej. Aby nawiązać sesję musimy wykonać następujące czynności:\n",
    "\n",
    "1. Utworzyć całą strukturę obiektów InitSessionSignedRequest. Definicja tego obiektu znajduje się w pliku initRequest.xsd. Cała struktura tych xsd jest nieco złożona, ale nasz generator poradził sobie z tym dobrze.\n",
    "2. Zserializować utworzony obiekt do pliku xml.\n",
    "3. Wykorzystując openssl wygenerować certyfikat, który nam posłuzy do podpisu.\n",
    "4. W oparciu o powyższy certyfikat podpisać xml-a podpisem XADES i dopiero ten plik wysłać.\n",
    "\n",
    "Idźmy po kolei. Najpierw struktura obiektów. Uzupełnij poniższy kod tak, by był zgodny z poniższą strukturą:\n",
    "\n",
    "$\n",
    "{\n",
    "  \"InitSessionSignedRequest\": {\n",
    "    \"Context\": {\n",
    "      \"Challenge\": \"20240324-CR-9D789E2A75-5A15961BE8-0B\",\n",
    "      \"Identifier\": {\n",
    "        \"Identifier\": 8363695362\n",
    "      },\n",
    "      \"DocumentType\": {\n",
    "        \"Service\": \"KSeF\",\n",
    "        \"FormCode\": {\n",
    "          \"SystemCode\": \"FA (2)\",\n",
    "          \"SchemaVersion\": \"1-0E\",\n",
    "          \"TargetNamespace\": \"http://ksef.mf.gov.pl/wzor/2021/08/05/08051\",\n",
    "          \"Value\": \"FA\"\n",
    "        }\n",
    "      },\n",
    "      \"Encryption\": {\n",
    "        \"EncryptionKey\": {\n",
    "          \"Encoding\": \"Base64\",\n",
    "          \"Algorithm\": \"AES\",\n",
    "          \"Size\": 256,\n",
    "          \"Value\": \"s3rtDSVyUxotyDmOz1ZALvaQBrFyBhLVxzh8cOIPG65bKKMU7CdSoFc2U2TQSu4SF7uZnqx7u6NpWYCXD1siqRwrORY3qWREFHdFFZP6+Gd7jV/Y4n+3r3rMBz+n+naRfJ9JeMWzTIjJrCV13BymEuH90g/BbmeijlXj5910Az0Ju2zasdAXdL0hPQg+IB6xw0FGUh2OW3tZHzf4XhJNTEMxdQ72h0B5IdS/VHmjdzW+1NEQqrce0qSmAwxER8LjjCWY0wd+nOGJCmSrJHf3lz2AzfkNIffiaGVhK2sV42YfApqwJ1fcnNXMplQa5KVoiEufa9Ugu06a7Ll6va7SVA==\"\n",
    "        },\n",
    "        \"EncryptionInitializationVector\": {\n",
    "          \"Encoding\": \"Base64\",\n",
    "          \"Bytes\": 16,\n",
    "          \"Value\": \"ABBH5/1l5BYZTCwAFMjkvw==\"\n",
    "        },\n",
    "        \"EncryptionAlgorithmKey\": {\n",
    "          \"Algorithm\": \"RSA\",\n",
    "          \"Mode\": \"ECB\",\n",
    "          \"Padding\": \"PKCS#1\"\n",
    "        },\n",
    "        \"EncryptionAlgorithmData\": {\n",
    "          \"Algorithm\": \"AES\",\n",
    "          \"Mode\": \"CBC\",\n",
    "          \"Padding\": \"PKCS#7\"\n",
    "        }\n",
    "      },\n",
    "      \"Type\": \"SerialNumber\"\n",
    "    }\n",
    "  }\n",
    "}\n",
    "$\n",
    "\n",
    "\n"
   ],
   "metadata": {
    "id": "obW3PQQp9_ay"
   }
  },
  {
   "cell_type": "markdown",
   "source": [
    "Zauważ, że używamy wersji algorytmów RSA/ECB/PKCS1 oraz AES/CBC/PKCS7. Te ograniczenia wynikają z samego API. Klucz AES przesyłany jest jako Base64. Podobnie IV. Jedyne pola, gdzie można coś zmienić to EncryptionKey.value, EncryptionInitializationVector.value oraz identyfikator i challenge w kontekście. Reszta to stałe."
   ],
   "metadata": {
    "id": "oQvXfeqSBnG7"
   }
  },
  {
   "cell_type": "code",
   "source": [
    "a = InitSessionSignedRequest()"
   ],
   "metadata": {
    "id": "RNZDR36pALP7"
   },
   "execution_count": null,
   "outputs": []
  },
  {
   "cell_type": "markdown",
   "source": [
    "Teraz serializacja do xml-a. Ponieważ wykorzystaliśmy xsdata do serializacji z xsd, tu też musimy wykorzystać tę bibliotekę.Dodatkowo wykorzystuję bibliotekę xml.dom.minidom do ładnego sformatowania xml-a. W przeciwnym wypadku może nie przejść walidacji. Musisz otrzymać taką strukturę jak w pliku initWzor.xml. Wykorzystaj ten plik do stworzenia odpowiednich namespace-ów.\n",
    "\n",
    "Przydatne linki: [serializator xsdata](https://xsdata.readthedocs.io/en/v20.4.1/reference/xsdata.formats.dataclass.serializers.html) oraz [biblioteka poprawiająca formatowanie - xml.minidom](https://docs.python.org/3/library/xml.dom.minidom.html)"
   ],
   "metadata": {
    "id": "2axTeaDfC8CH"
   }
  },
  {
   "cell_type": "code",
   "source": [
    "from xsdata.formats.dataclass.serializers import *\n",
    "import xml.dom.minidom\n",
    "\n",
    "ns_map = {}\n",
    "#np. ns_map[\"nazwa_namespacea\"] = \"link\"\n",
    "\n",
    "serializer =\n",
    "serialized =\n",
    "parsedToString = xml.dom.minidom.\n",
    "pretty_xml_as_string = parsedToString.\n",
    "print(pretty_xml_as_string)\n",
    "\n",
    "xml_file = open(\"init.xml\", \"w\")\n",
    "xml_file.write(pretty_xml_as_string)\n",
    "xml_file.close()"
   ],
   "metadata": {
    "id": "qI8wVJapDFRk"
   },
   "execution_count": null,
   "outputs": []
  },
  {
   "cell_type": "markdown",
   "source": [
    "Pora na certyfikat. Zgodnie ze [stroną testową](https://ksef-test.mf.gov.pl/):\n",
    "![image.png](data:image/png;base64,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)\n",
    "\n",
    "Czyli generując certyfikat x509 musimy pamiętać o dodaniu pól OID.2.5.4.42, OID.2.5.4.4 oraz OID.2.5.4.5 (numerem seryjnym będzie nasz NIP, string musi jednak być zgodny z regexem).\n",
    "\n",
    "Do wygenerowania certyfikatu x509 użyj [openssl](https://www.openssl.org/docs/man1.1.1/man1/x509.html).\n",
    "\n",
    "Wymagania:\n",
    "- Klucz rsa powinien być 2048 bitowy.\n",
    "- Przy generowaniu powinniśmy uzyć funkcji skrótu SHA-512.\n",
    "- Dodanie odpowiednich OIDów. Możesz je dodać na podstawie [tej](https://oidref.com/2.5.4.5) strony. Zauważ, że możesz je wpisywać po komendzie -subj, np. -subj \"/commonName=krypto\".\n",
    "- Niech certyfikat będzie ważny 1 dzień.\n",
    "\n",
    "Ostatecznie będzie trzeba użyć następujących opcji: -x509, -sha512, -nodes, -subj, -days, -newkey, -keyout oraz -out. Certyfikat dodaj do pliku cert.pem, a klucz prywatny w pliku privkey.pem.\n",
    "\n",
    "Openssla możesz użyć w terminalu utworzonym na początku notebooka. Podejrzeć certyfikat możesz komendą openssl x509 -in cert.pem -noout -text\n",
    "\n",
    "Mając certyfikat możesz podpisać xml-a z wykorzystaniem biblioteki [signxml](https://xml-security.github.io/signxml/). Uzupełnij kod poniżej. Porównaj swojego xmla z plikiem wzorcowym (initSignedWzorzec.xml)"
   ],
   "metadata": {
    "id": "s7IByQENDfwS"
   }
  },
  {
   "cell_type": "code",
   "source": [
    "from signxml import DigestAlgorithm\n",
    "from signxml.xades import XAdESSigner\n",
    "from lxml import etree\n",
    "\n",
    "signer =\n",
    "\n",
    "f = open(\"init.xml\", \"r\")\n",
    "doc = f.read()\n",
    "f.close()\n",
    "\n",
    "cert =\n",
    "key =\n",
    "\n",
    "root = etree.parse\n",
    "et = etree.ElementTree\n",
    "signed_doc = signer.sign\n",
    "et.write"
   ],
   "metadata": {
    "id": "ZK1mrBijF93k"
   },
   "execution_count": null,
   "outputs": []
  },
  {
   "cell_type": "markdown",
   "source": [
    "Mając podpisany dokument output.xml czas nawiązać sesję. Wzorzec zapytania jest dostępne w KSeF-online.yaml (/online/Session/InitSigned)"
   ],
   "metadata": {
    "id": "MF_B0fbEGiew"
   }
  },
  {
   "cell_type": "code",
   "source": [
    "f = open\n",
    "doc =\n",
    "f.close\n",
    "r = requests.post\n",
    "sesja = json.loads(r.content)\n",
    "print(sesja)"
   ],
   "metadata": {
    "id": "r-pxx5TiGmFB"
   },
   "execution_count": null,
   "outputs": []
  },
  {
   "cell_type": "code",
   "source": [
    "print(sesja[\"sessionToken\"][\"token\"])"
   ],
   "metadata": {
    "id": "kNR7iIcaHLiN"
   },
   "execution_count": null,
   "outputs": []
  },
  {
   "cell_type": "markdown",
   "source": [
    "### Wysyłka faktury\n",
    "\n",
    "Otrzymałeś/łaś fakturę faktura.xml. Wzorzec wysyłki jest dostępny w KSeF-online.yaml (/online/Invoice/Send). Przyglądnij się tej sktrukturze.\n",
    "Wskazówki:\n",
    "1. Dane binarne (sama faktura, skróty) są wysyłane w base64.\n",
    "2. Liczone są dwa skróty: skrót z faktury niezawszyforwanej i z zaszyfrowanej.\n",
    "3. Szyfrowanie odbywa się uzgodnionym kluczem AES.\n",
    "4. Musisz dodać header SessionToken którego wartość należy wziąć z sesji.\n",
    "5. Wysyłka faktury odbywa się PUTem, nie POSTem.\n",
    "6. Przed szyfrowaniem AES musisz zastosować padding (dostępne w Crypto.Util.Padding). Wczytany plik musi być wyrównany do wielokrotności rozmiaru bloku AES (AES.block_size).\n",
    "\n",
    "Uzupełnij poniższy kod."
   ],
   "metadata": {
    "id": "5icByeAgHE0q"
   }
  },
  {
   "cell_type": "code",
   "source": [
    "import hashlib\n",
    "from Crypto.Cipher import AES\n",
    "from Crypto.Util.Padding import *\n",
    "\n",
    "f = open\n",
    "doc =\n",
    "f.close()\n",
    "\n",
    "cipher = AES.new\n",
    "padded_data = pad\n",
    "doc_encrypted =\n",
    "\n",
    "\n",
    "a = {}\n",
    "a[\"invoiceHash\"] = {}\n",
    "\n",
    "headers =\n",
    "y = json.dumps(a)\n",
    "print(y)\n",
    "r = requests.put\n",
    "reference = json.loads(r.content)\n",
    "print(reference)"
   ],
   "metadata": {
    "id": "P8KPZramIBtS"
   },
   "execution_count": null,
   "outputs": []
  },
  {
   "cell_type": "markdown",
   "source": [
    "Jeżeli wszystko poszło prawidłowo, faktura jest już w systemie. Wyślij zapytanie na online/Invoice/Status/{elementReferenceNumber} aby zobaczyć czy faktura została przeprocesowana."
   ],
   "metadata": {
    "id": "Xsl1TDB8JBhz"
   }
  },
  {
   "cell_type": "code",
   "source": [
    "headers =\n",
    "r = requests.get\n",
    "wynik = json.loads(r.content)\n",
    "print(wynik)"
   ],
   "metadata": {
    "id": "6cSpIeLLJFcl"
   },
   "execution_count": null,
   "outputs": []
  }
 ]
}
