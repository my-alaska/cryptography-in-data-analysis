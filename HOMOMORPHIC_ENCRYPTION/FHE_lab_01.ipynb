{
 "cells": [
  {
   "cell_type": "markdown",
   "id": "6df910e1",
   "metadata": {},
   "source": [
    "# Szyfrowanie w pełni holomorficzne - Laboratorium 01"
   ]
  },
  {
   "cell_type": "markdown",
   "id": "0750ef60",
   "metadata": {},
   "source": [
    "## Pierścienie ilorazowe wielomianów\n",
    "\n",
    "Obiektem matematycznym powiązanym z ciałami Galois i używanym w kryptografi homomorficznej jest pierścień ilorazowy wielomianów $\\mathbb{Z}_p[X]/W(X)$, gdzie $W(X)$ jest danym, konkretnym wielomianem stopnia $n$ a $p$ konkretną liczbą (najczęściej pierwszą).\n",
    "\n",
    "$\\mathbb{Z}_p[X]$ oznacza tutaj pierścień wielomianów dowolnych stopni o współczynnikach będących liczbami z $\\mathbb{Z}_p$. Żeby otrzymać reprezentację wielomianu z $\\mathbb{Z}[X]$ (tzn. wielomianu o współczynnikach całkowitych) w $\\mathbb{Z}_p[X]$ należy obliczyć reprezentację jego współczynników $\\mod p$.\n",
    "\n",
    "Pierścień ilorazowy $\\mathbb{Z}_p[X]/W(X)$ to mówiąc prostym językiem pierścień reszt z dzielenia wielomianów z $\\mathbb{Z}_p[X]$ przez wielomian $W(X)$, czyli reprezentacją danego wielomianu staje się jego reszta z dzielenia przez $W(X)$."
   ]
  },
  {
   "cell_type": "markdown",
   "id": "0ba1f5c7",
   "metadata": {},
   "source": [
    "## Zadanie 1.\n",
    "\n",
    "Zaimplementować w Pythonie pierścień $\\mathbb{Z}_{17}[X]/(X^4+1)$ wraz z arytmetyką, tzn. działaniami dodawania (+), odejmowania (-), mnożenia (\\*) oraz mnożenia przez `int` (\\*)."
   ]
  },
  {
   "cell_type": "code",
   "execution_count": 6,
   "outputs": [],
   "source": [
    "import numpy as np\n",
    "\n",
    "x4p1 = np.array([1, 0, 0, 0, 1])\n",
    "\n",
    "class Z17:\n",
    "    def __init__(self, poly: np.array):\n",
    "        _, p = np.polydiv(poly, x4p1)\n",
    "        self.poly = np.array([0,0,0,0])\n",
    "        self.poly[-(p.shape[0]):] = p\n",
    "        self.poly %= 17\n",
    "\n",
    "    def __mul__(self, other):\n",
    "        if isinstance(other, Z17):\n",
    "            return Z17(np.polymul(self.poly, other.poly))\n",
    "        return Z17(self.poly * other)\n",
    "\n",
    "    __rmul__ = __mul__\n",
    "\n",
    "    def __add__(self, other):\n",
    "        return Z17(np.polyadd(self.poly, other.poly))\n",
    "\n",
    "    __radd__ = __add__\n",
    "\n",
    "    def __neg__(self):\n",
    "        return -1 * self\n",
    "    \n",
    "    def __mod__(self, other):\n",
    "        return Z17(self.poly % other)\n",
    "    \n",
    "    def __eq__(self,other):\n",
    "        return self.poly == other.poly\n",
    "\n",
    "    def __repr__(self):\n",
    "        p =  [(f\"{a}\" if a != 1 else \"\") + f\"x^{3 - i}\" for i, a in enumerate(self.poly[:-1].astype(int)) if a != 0] \n",
    "        if self.poly[-1] != 0:\n",
    "            p += [f\"{int(self.poly[-1])}\"]\n",
    "        return \" +\".join(p)"
   ],
   "metadata": {
    "collapsed": false,
    "ExecuteTime": {
     "end_time": "2024-04-21T10:38:38.727765400Z",
     "start_time": "2024-04-21T10:38:38.685038400Z"
    }
   },
   "id": "9b452c76894c1974"
  },
  {
   "cell_type": "code",
   "execution_count": 7,
   "outputs": [
    {
     "name": "stdout",
     "output_type": "stream",
     "text": [
      "14x^3 +10x^2\n",
      "12x^2 +10x^1 +6\n",
      "x^3 +x^2 +11x^1 +7\n"
     ]
    }
   ],
   "source": [
    "w1 = Z17([7,0,0,14,0,0,0])\n",
    "w2 = Z17([24,0,-5,-7,13])\n",
    "w3 = Z17([23,-3,1,35,0,4])\n",
    "\n",
    "for w in [w1,w2,w3]:\n",
    "    print(w)"
   ],
   "metadata": {
    "collapsed": false,
    "ExecuteTime": {
     "end_time": "2024-04-21T10:38:38.775766100Z",
     "start_time": "2024-04-21T10:38:38.697764600Z"
    }
   },
   "id": "9f59bf07377611ed"
  },
  {
   "cell_type": "markdown",
   "id": "592a27cc",
   "metadata": {},
   "source": [
    "Dane testowe:"
   ]
  },
  {
   "cell_type": "markdown",
   "id": "4b263dcf",
   "metadata": {},
   "source": [
    "$$w1=7x^6+14x^3$$\n",
    "$$w2=24x^4-5x^2-7x+13$$\n",
    "$$w3=23x^5-3x^4+x^3+35x^2+4$$"
   ]
  },
  {
   "cell_type": "markdown",
   "id": "da891d99",
   "metadata": {},
   "source": [
    "Reprezentacja w $\\mathbb{Z}_{17}[X]/(X^4+1)$:"
   ]
  },
  {
   "cell_type": "markdown",
   "id": "6fd2164a",
   "metadata": {},
   "source": [
    "$$w1=14x^3 + 10x^2$$\n",
    "$$w2=12x^2 + 10x + 6$$\n",
    "$$w3=x^3 + x^2 + 11x + 7$$"
   ]
  },
  {
   "cell_type": "markdown",
   "id": "0c24611c",
   "metadata": {},
   "source": [
    "Arytmetyka:"
   ]
  },
  {
   "cell_type": "markdown",
   "id": "25cfaac4",
   "metadata": {},
   "source": [
    "$$w1+w2=14x^3 + 5x^2 + 10x + 6$$\n",
    "$$w1*w2=14x^3 + 9x^2 + 2x + 12$$\n",
    "$$6*w3=6x^3 + 6x^2 + 15x + 8$$\n",
    "$$w3*6=6x^3 + 6x^2 + 15x + 8$$\n",
    "\n",
    "\n",
    "\n"
   ]
  },
  {
   "cell_type": "code",
   "execution_count": 8,
   "outputs": [
    {
     "name": "stdout",
     "output_type": "stream",
     "text": [
      "14x^3 +5x^2 +10x^1 +6\n",
      "14x^3 +9x^2 +2x^1 +12\n",
      "6x^3 +6x^2 +15x^1 +8\n",
      "6x^3 +6x^2 +15x^1 +8\n"
     ]
    }
   ],
   "source": [
    "print(w1+w2)\n",
    "print(w1*w2)\n",
    "print(6*w3)\n",
    "print(w3*6)"
   ],
   "metadata": {
    "collapsed": false,
    "ExecuteTime": {
     "end_time": "2024-04-21T10:38:38.786769700Z",
     "start_time": "2024-04-21T10:38:38.714766Z"
    }
   },
   "id": "d4a893c45a9a9a9b"
  },
  {
   "cell_type": "markdown",
   "id": "65edd92b",
   "metadata": {},
   "source": [
    "## Algorytm BGV (Brakerski, Gentry, Vaikuntanathan 2011)\n",
    "\n",
    "Parametry kryptosystemu:\n",
    "- $n$ - stopień wielomianu $X^n+1$\n",
    "- $q$ - podstawa arytmetyki modularnej\n",
    "- $t$ - podstawa arytmetyki modularnej plaintextu, $t<<q$\n",
    "- $\\chi$ - dyskretny rokład typu Gaussowskiego\n",
    "- $R_q=\\mathbb{Z}_{q}[X]/(X^n+1)$\n",
    "\n",
    "W uproszczonym modelu kryptosystemu przyjmijmy $n=4$, $q=17$, $t=2$."
   ]
  },
  {
   "cell_type": "markdown",
   "id": "243b99d8",
   "metadata": {},
   "source": [
    "`SecretKeyGen(params) -> sk`\n",
    "\n",
    "- losujemy wektor $s\\in\\{-1,0,1\\}^n$ z *binomial distribution* (prawdopodobieństwo wylosowania 0 jest największe, a prawdopodobieństwa wylosowania -1 i 1 są sobie równe)\n",
    "- klucz prywatny $sk=s$\n",
    "    "
   ]
  },
  {
   "cell_type": "markdown",
   "id": "3ae3a531",
   "metadata": {},
   "source": [
    "`PubKeyGen(sk, params) -> (pk0, pk1)`\n",
    "\n",
    "- losujemy losowy element $a\\in R_q$\n",
    "- losujemy niewielki (w sensie współczynników) błąd $e\\in R_q$ z rozkładu $\\chi$\n",
    "- $pk_0=as+te$\n",
    "- $pk_1=-a$\n",
    "- klucz publiczny $pk=(pk_0,pk_1)$"
   ]
  },
  {
   "cell_type": "markdown",
   "id": "cd578500",
   "metadata": {},
   "source": [
    "`Encrypt(m, pk, params) -> (c0, c1)`\n",
    "\n",
    "- losujemy niewielkie (w sensie współczynników) błędy $e_0,e_1\\in R_q$ z rozkładu $\\chi$\n",
    "- losujemy wektor $u\\in\\{-1,0,1\\}^n$ z *binomial distribution*\n",
    "- $c_0=pk_0\\cdot u+te_0+m$\n",
    "- $c_1=pk_1\\cdot u+te_1$\n",
    "- szyfrogram $c=(c_0,c_1)$"
   ]
  },
  {
   "cell_type": "markdown",
   "id": "d7cda3f3",
   "metadata": {},
   "source": [
    "`Decrypt(c, sk, params)`\n",
    "\n",
    "- obliczamy $m=c_0+c_1s\\mod q\\mod t$\n",
    "- zwracamy $m$ jako odszyfrowaną wiadomość"
   ]
  },
  {
   "cell_type": "markdown",
   "id": "ff07db5f",
   "metadata": {},
   "source": [
    "## Zadanie 2.\n",
    "\n",
    "Zaimplementuj uproszczoną wersję algorytmu BGV. Sprawdź poprawność deszyfrowania dla losowo generowanych wiadomości $m$."
   ]
  },
  {
   "cell_type": "code",
   "execution_count": 25,
   "id": "7495f1f3",
   "metadata": {
    "ExecuteTime": {
     "end_time": "2024-04-21T10:43:05.526869100Z",
     "start_time": "2024-04-21T10:43:05.510824900Z"
    }
   },
   "outputs": [],
   "source": [
    "n = 4 \n",
    "q = 17\n",
    "t = 2\n",
    "\n",
    "prob = 0.9\n",
    "\n",
    "def SecretKeyGen(n):\n",
    "    # sk =  np.random.binomial(2,0.5,size=n)-1\n",
    "    sk = np.random.choice([-1,0,1],n,p=[0.,prob,1-prob])\n",
    "    return Z17(sk)\n",
    "\n",
    "def PubKeyGen(sk):\n",
    "    a = Z17(np.random.randint(q,size=n))\n",
    "    e = Z17(np.random.choice([-1,0,1],n,p=[0.,prob,1-prob]))\n",
    "    \n",
    "    pk0 = a*sk + t*e\n",
    "    pk1 = -a\n",
    "    return (pk0,pk1)\n",
    "\n",
    "def Encrypt(m,pk):\n",
    "    e0 = Z17(np.random.choice([-1,0,1],n,p=[0.,prob,1-prob]))\n",
    "    e1 = Z17(np.random.choice([-1,0,1],n,p=[0.,prob,1-prob]))\n",
    "    u = Z17(np.random.choice([-1,0,1],n,p=[0.,prob,1-prob]))\n",
    "    c0 = pk[0]*u + t*e0 + m\n",
    "    c1 = pk[1]*u + t*e1\n",
    "    return (c0,c1)\n",
    "\n",
    "def Decrypt(c, sk):\n",
    "    m = c[0] + c[1]*sk\n",
    "    # m %= q # implicitly handled above\n",
    "    # m %= t\n",
    "    return m"
   ]
  },
  {
   "cell_type": "code",
   "execution_count": 13,
   "outputs": [
    {
     "name": "stdout",
     "output_type": "stream",
     "text": [
      "1.0\n"
     ]
    }
   ],
   "source": [
    "sk = SecretKeyGen(n)\n",
    "pk = PubKeyGen(sk)\n",
    "\n",
    "s = 0\n",
    "X = np.random.randint(2,size=(1000,4))\n",
    "for p in X:\n",
    "    poly = Z17(p)\n",
    "    c = Encrypt(poly,pk)\n",
    "    m = Decrypt(c,sk)\n",
    "    \n",
    "    s += (m == poly).sum()\n",
    "print(s / (X.shape[0]*X.shape[1]))"
   ],
   "metadata": {
    "collapsed": false,
    "ExecuteTime": {
     "end_time": "2024-04-21T10:38:45.665557100Z",
     "start_time": "2024-04-21T10:38:43.725563400Z"
    }
   },
   "id": "8f96288b8748ec1a"
  },
  {
   "cell_type": "code",
   "execution_count": 14,
   "outputs": [
    {
     "data": {
      "text/plain": "x^1"
     },
     "execution_count": 14,
     "metadata": {},
     "output_type": "execute_result"
    }
   ],
   "source": [
    "m"
   ],
   "metadata": {
    "collapsed": false,
    "ExecuteTime": {
     "end_time": "2024-04-21T10:38:46.466577200Z",
     "start_time": "2024-04-21T10:38:46.445506200Z"
    }
   },
   "id": "61b082aba85ace5c"
  },
  {
   "cell_type": "code",
   "execution_count": 15,
   "outputs": [
    {
     "data": {
      "text/plain": "x^1"
     },
     "execution_count": 15,
     "metadata": {},
     "output_type": "execute_result"
    }
   ],
   "source": [
    "poly"
   ],
   "metadata": {
    "collapsed": false,
    "ExecuteTime": {
     "end_time": "2024-04-21T10:38:47.034361700Z",
     "start_time": "2024-04-21T10:38:47.014361200Z"
    }
   },
   "id": "45e9463fdf6a9246"
  },
  {
   "cell_type": "code",
   "execution_count": 16,
   "outputs": [],
   "source": [
    "original_sum = Z17([0,7,3,0])\n",
    "encrypted_sum = Encrypt(original_sum,pk)\n",
    "decrypted_sum = Decrypt(encrypted_sum,sk)"
   ],
   "metadata": {
    "collapsed": false,
    "ExecuteTime": {
     "end_time": "2024-04-21T10:39:02.012750100Z",
     "start_time": "2024-04-21T10:39:01.981750900Z"
    }
   },
   "id": "b70bcc43501eb9b2"
  },
  {
   "cell_type": "code",
   "execution_count": 20,
   "outputs": [
    {
     "data": {
      "text/plain": "(7x^2 +3x^1, )"
     },
     "execution_count": 20,
     "metadata": {},
     "output_type": "execute_result"
    }
   ],
   "source": [
    "encrypted_sum"
   ],
   "metadata": {
    "collapsed": false,
    "ExecuteTime": {
     "end_time": "2024-04-21T10:42:14.678582800Z",
     "start_time": "2024-04-21T10:42:14.654575900Z"
    }
   },
   "id": "7ffac5e527da03b1"
  },
  {
   "cell_type": "code",
   "execution_count": 26,
   "outputs": [
    {
     "data": {
      "text/plain": "7x^2 +3x^1"
     },
     "execution_count": 26,
     "metadata": {},
     "output_type": "execute_result"
    }
   ],
   "source": [
    "Decrypt(encrypted_sum,sk)"
   ],
   "metadata": {
    "collapsed": false,
    "ExecuteTime": {
     "end_time": "2024-04-21T10:43:08.248389700Z",
     "start_time": "2024-04-21T10:43:08.225367100Z"
    }
   },
   "id": "a737b16b3446470d"
  },
  {
   "cell_type": "code",
   "execution_count": 24,
   "outputs": [
    {
     "data": {
      "text/plain": ""
     },
     "execution_count": 24,
     "metadata": {},
     "output_type": "execute_result"
    }
   ],
   "source": [
    "sk"
   ],
   "metadata": {
    "collapsed": false,
    "ExecuteTime": {
     "end_time": "2024-04-21T10:42:33.869508Z",
     "start_time": "2024-04-21T10:42:33.854469100Z"
    }
   },
   "id": "d24b8ec0f3f22f17"
  },
  {
   "cell_type": "code",
   "execution_count": null,
   "outputs": [],
   "source": [],
   "metadata": {
    "collapsed": false
   },
   "id": "9b14a777356a5a6"
  }
 ],
 "metadata": {
  "kernelspec": {
   "display_name": "Python 3 (ipykernel)",
   "language": "python",
   "name": "python3"
  },
  "language_info": {
   "codemirror_mode": {
    "name": "ipython",
    "version": 3
   },
   "file_extension": ".py",
   "mimetype": "text/x-python",
   "name": "python",
   "nbconvert_exporter": "python",
   "pygments_lexer": "ipython3",
   "version": "3.11.5"
  }
 },
 "nbformat": 4,
 "nbformat_minor": 5
}
