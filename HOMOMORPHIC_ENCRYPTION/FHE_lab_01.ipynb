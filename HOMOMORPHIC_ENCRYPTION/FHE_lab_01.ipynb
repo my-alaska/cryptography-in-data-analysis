{
 "cells": [
  {
   "cell_type": "markdown",
   "id": "6df910e1",
   "metadata": {},
   "source": [
    "# Szyfrowanie w pełni holomorficzne - Laboratorium 01"
   ]
  },
  {
   "cell_type": "markdown",
   "id": "0750ef60",
   "metadata": {},
   "source": [
    "## Pierścienie ilorazowe wielomianów\n",
    "\n",
    "Obiektem matematycznym powiązanym z ciałami Galois i używanym w kryptografi homomorficznej jest pierścień ilorazowy wielomianów $\\mathbb{Z}_p[X]/W(X)$, gdzie $W(X)$ jest danym, konkretnym wielomianem stopnia $n$ a $p$ konkretną liczbą (najczęściej pierwszą).\n",
    "\n",
    "$\\mathbb{Z}_p[X]$ oznacza tutaj pierścień wielomianów dowolnych stopni o współczynnikach będących liczbami z $\\mathbb{Z}_p$. Żeby otrzymać reprezentację wielomianu z $\\mathbb{Z}[X]$ (tzn. wielomianu o współczynnikach całkowitych) w $\\mathbb{Z}_p[X]$ należy obliczyć reprezentację jego współczynników $\\mod p$.\n",
    "\n",
    "Pierścień ilorazowy $\\mathbb{Z}_p[X]/W(X)$ to mówiąc prostym językiem pierścień reszt z dzielenia wielomianów z $\\mathbb{Z}_p[X]$ przez wielomian $W(X)$, czyli reprezentacją danego wielomianu staje się jego reszta z dzielenia przez $W(X)$."
   ]
  },
  {
   "cell_type": "markdown",
   "id": "0ba1f5c7",
   "metadata": {},
   "source": [
    "## Zadanie 1.\n",
    "\n",
    "Zaimplementować w Pythonie pierścień $\\mathbb{Z}_{17}[X]/(X^4+1)$ wraz z arytmetyką, tzn. działaniami dodawania (+), odejmowania (-), mnożenia (\\*) oraz mnożenia przez `int` (\\*)."
   ]
  },
  {
   "cell_type": "code",
   "execution_count": 124,
   "outputs": [],
   "source": [
    "import numpy as np\n",
    "\n",
    "x4p1 = np.array([1, 0, 0, 0, 1])\n",
    "\n",
    "class Z17:\n",
    "    def __init__(self, poly: np.array):\n",
    "        _, p = np.polydiv(poly, x4p1)\n",
    "        self.poly = (p % 17)\n",
    "\n",
    "    def __mul__(self, other):\n",
    "        if isinstance(other, Z17):\n",
    "            return Z17(np.polymul(self.poly, other.poly))\n",
    "        return Z17(self.poly * other)\n",
    "\n",
    "    __rmul__ = __mul__\n",
    "\n",
    "    def __add__(self, other):\n",
    "        return Z17(np.polyadd(self.poly, other.poly))\n",
    "\n",
    "    __radd__ = __add__\n",
    "\n",
    "    def __neg__(self):\n",
    "        return -1 * self\n",
    "\n",
    "    def __repr__(self):\n",
    "        p =  [(f\"{a}\" if a != 1 else \"\") + f\"x^{3 - i}\" for i, a in enumerate(self.poly[:-1].astype(int)) if a != 0] \n",
    "        if self.poly[-1] != 0:\n",
    "            p += [f\"{int(self.poly[-1])}\"]\n",
    "        return \" +\".join(p)"
   ],
   "metadata": {
    "collapsed": false,
    "ExecuteTime": {
     "end_time": "2024-04-08T14:17:39.801783600Z",
     "start_time": "2024-04-08T14:17:39.786634600Z"
    }
   },
   "id": "9b452c76894c1974"
  },
  {
   "cell_type": "code",
   "execution_count": 125,
   "outputs": [
    {
     "name": "stdout",
     "output_type": "stream",
     "text": [
      "14x^3 +10x^2\n",
      "12x^3 +10x^2 +6\n",
      "x^3 +x^2 +11x^1 +7\n"
     ]
    }
   ],
   "source": [
    "w1 = Z17([7,0,0,14,0,0,0])\n",
    "w2 = Z17([24,0,-5,-7,13])\n",
    "w3 = Z17([23,-3,1,35,0,4])\n",
    "\n",
    "for w in [w1,w2,w3]:\n",
    "    print(w)"
   ],
   "metadata": {
    "collapsed": false,
    "ExecuteTime": {
     "end_time": "2024-04-08T14:17:40.214763100Z",
     "start_time": "2024-04-08T14:17:40.185916600Z"
    }
   },
   "id": "9f59bf07377611ed"
  },
  {
   "cell_type": "markdown",
   "id": "592a27cc",
   "metadata": {},
   "source": [
    "Dane testowe:"
   ]
  },
  {
   "cell_type": "markdown",
   "id": "4b263dcf",
   "metadata": {},
   "source": [
    "$$w1=7x^6+14x^3$$\n",
    "$$w2=24x^4-5x^2-7x+13$$\n",
    "$$w3=23x^5-3x^4+x^3+35x^2+4$$"
   ]
  },
  {
   "cell_type": "markdown",
   "id": "da891d99",
   "metadata": {},
   "source": [
    "Reprezentacja w $\\mathbb{Z}_{17}[X]/(X^4+1)$:"
   ]
  },
  {
   "cell_type": "markdown",
   "id": "6fd2164a",
   "metadata": {},
   "source": [
    "$$w1=14x^3 + 10x^2$$\n",
    "$$w2=12x^2 + 10x + 6$$\n",
    "$$w3=x^3 + x^2 + 11x + 7$$"
   ]
  },
  {
   "cell_type": "markdown",
   "id": "0c24611c",
   "metadata": {},
   "source": [
    "Arytmetyka:"
   ]
  },
  {
   "cell_type": "markdown",
   "id": "25cfaac4",
   "metadata": {},
   "source": [
    "$$w1+w2=14x^3 + 5x^2 + 10x + 6$$\n",
    "$$w1*w2=14x^3 + 9x^2 + 2x + 12$$\n",
    "$$6*w3=6x^3 + 6x^2 + 15x + 8$$\n",
    "$$w3*6=6x^3 + 6x^2 + 15x + 8$$\n",
    "\n",
    "\n",
    "\n"
   ]
  },
  {
   "cell_type": "code",
   "execution_count": 119,
   "outputs": [
    {
     "name": "stdout",
     "output_type": "stream",
     "text": [
      "14x^3 +5x^2 +10x^1 +6\n",
      "14x^3 +9x^2 +2x^1 +12\n",
      "6x^3 +6x^2 +15x^1 +8\n",
      "6x^3 +6x^2 +15x^1 +8\n"
     ]
    }
   ],
   "source": [
    "print(w1+w2)\n",
    "print(w1*w2)\n",
    "print(6*w3)\n",
    "print(w3*6)"
   ],
   "metadata": {
    "collapsed": false,
    "ExecuteTime": {
     "end_time": "2024-04-08T14:16:31.376195200Z",
     "start_time": "2024-04-08T14:16:31.272188300Z"
    }
   },
   "id": "d4a893c45a9a9a9b"
  },
  {
   "cell_type": "markdown",
   "id": "65edd92b",
   "metadata": {},
   "source": [
    "## Algorytm BGV (Brakerski, Gentry, Vaikuntanathan 2011)\n",
    "\n",
    "Parametry kryptosystemu:\n",
    "- $n$ - stopień wielomianu $X^n+1$\n",
    "- $q$ - podstawa arytmetyki modularnej\n",
    "- $t$ - podstawa arytmetyki modularnej plaintextu, $t<<q$\n",
    "- $\\chi$ - dyskretny rokład typu Gaussowskiego\n",
    "- $R_q=\\mathbb{Z}_{q}[X]/(X^n+1)$\n",
    "\n",
    "W uproszczonym modelu kryptosystemu przyjmijmy $n=4$, $q=17$, $t=2$."
   ]
  },
  {
   "cell_type": "markdown",
   "id": "243b99d8",
   "metadata": {},
   "source": [
    "`SecretKeyGen(params) -> sk`\n",
    "\n",
    "- losujemy wektor $s\\in\\{-1,0,1\\}^n$ z *binomial distribution* (prawdopodobieństwo wylosowania 0 jest największe, a prawdopodobieństwa wylosowania -1 i 1 są sobie równe)\n",
    "- klucz prywatny $sk=s$\n",
    "    "
   ]
  },
  {
   "cell_type": "markdown",
   "id": "3ae3a531",
   "metadata": {},
   "source": [
    "`PubKeyGen(sk, params) -> (pk0, pk1)`\n",
    "\n",
    "- losujemy losowy element $a\\in R_q$\n",
    "- losujemy niewielki (w sensie współczynników) błąd $e\\in R_q$ z rozkładu $\\chi$\n",
    "- $pk_0=as+te$\n",
    "- $pk_1=-a$\n",
    "- klucz publiczny $pk=(pk_0,pk_1)$"
   ]
  },
  {
   "cell_type": "markdown",
   "id": "cd578500",
   "metadata": {},
   "source": [
    "`Encrypt(m, pk, params) -> (c0, c1)`\n",
    "\n",
    "- losujemy niewielkie (w sensie współczynników) błędy $e_0,e_1\\in R_q$ z rozkładu $\\chi$\n",
    "- losujemy wektor $u\\in\\{-1,0,1\\}^n$ z *binomial distribution*\n",
    "- $c_0=pk_0\\cdot u+te_0+m$\n",
    "- $c_1=pk_1\\cdot u+te_1$\n",
    "- szyfrogram $c=(c_0,c_1)$"
   ]
  },
  {
   "cell_type": "markdown",
   "id": "d7cda3f3",
   "metadata": {},
   "source": [
    "`Decrypt(c, sk, params)`\n",
    "\n",
    "- obliczamy $m=c_0+c_1s\\mod q\\mod t$\n",
    "- zwracamy $m$ jako odszyfrowaną wiadomość"
   ]
  },
  {
   "cell_type": "markdown",
   "id": "ff07db5f",
   "metadata": {},
   "source": [
    "## Zadanie 2.\n",
    "\n",
    "Zaimplementuj uproszczoną wersję algorytmu BGV. Sprawdź poprawność deszyfrowania dla losowo generowanych wiadomości $m$."
   ]
  },
  {
   "cell_type": "code",
   "execution_count": 148,
   "id": "7495f1f3",
   "metadata": {
    "ExecuteTime": {
     "end_time": "2024-04-08T14:38:10.030301500Z",
     "start_time": "2024-04-08T14:38:09.974274100Z"
    }
   },
   "outputs": [],
   "source": [
    "n = 4 \n",
    "q = 17\n",
    "t = 2\n",
    "\n",
    "def SecretKeyGen(n):\n",
    "    sk =  np.random.binomial(2,0.5,size=n)-1\n",
    "    return sk\n",
    "\n",
    "def PubKeyGen(sk):\n",
    "    a = Z17(np.random.randint(q,size=n))\n",
    "    e = Z17(np.random.normal(1.5,size=n).astype(int))\n",
    "    \n",
    "    pk0 = a*sk + t*e\n",
    "    pk1 = -a\n",
    "    return (pk0,pk1)\n",
    "\n",
    "def Encrypt(m,pk):\n",
    "    e0 = Z17(np.random.normal(1.5,size=n).astype(int))\n",
    "    e1 = Z17(np.random.normal(1.5,size=n).astype(int))\n",
    "    u = np.random.binomial(2,0.5,size=n)-1\n",
    "    c0 = pk[0]*u + t*e0 + m\n",
    "    c1 = pk[1]*u + t*e1\n",
    "    return (c0,c1)\n",
    "\n",
    "def Decrypt(c, sk, q, t):\n",
    "    m = c[0] + c[1]*sk\n",
    "    m %= q\n",
    "    m %= t\n",
    "    return m"
   ]
  },
  {
   "cell_type": "code",
   "execution_count": 149,
   "outputs": [
    {
     "ename": "TypeError",
     "evalue": "unsupported operand type(s) for %=: 'Z17' and 'int'",
     "output_type": "error",
     "traceback": [
      "\u001B[1;31m---------------------------------------------------------------------------\u001B[0m",
      "\u001B[1;31mTypeError\u001B[0m                                 Traceback (most recent call last)",
      "Cell \u001B[1;32mIn[149], line 7\u001B[0m\n\u001B[0;32m      5\u001B[0m poly \u001B[38;5;241m=\u001B[39m Z17(p)\n\u001B[0;32m      6\u001B[0m c \u001B[38;5;241m=\u001B[39m Encrypt(poly,pk)\n\u001B[1;32m----> 7\u001B[0m m \u001B[38;5;241m=\u001B[39m \u001B[43mDecrypt\u001B[49m\u001B[43m(\u001B[49m\u001B[43mc\u001B[49m\u001B[43m,\u001B[49m\u001B[43msk\u001B[49m\u001B[43m,\u001B[49m\u001B[43mq\u001B[49m\u001B[43m,\u001B[49m\u001B[43mt\u001B[49m\u001B[43m)\u001B[49m\n\u001B[0;32m      8\u001B[0m \u001B[38;5;28mprint\u001B[39m(m \u001B[38;5;241m==\u001B[39m poly)\n",
      "Cell \u001B[1;32mIn[148], line 27\u001B[0m, in \u001B[0;36mDecrypt\u001B[1;34m(c, sk, q, t)\u001B[0m\n\u001B[0;32m     25\u001B[0m \u001B[38;5;28;01mdef\u001B[39;00m \u001B[38;5;21mDecrypt\u001B[39m(c, sk, q, t):\n\u001B[0;32m     26\u001B[0m     m \u001B[38;5;241m=\u001B[39m c[\u001B[38;5;241m0\u001B[39m] \u001B[38;5;241m+\u001B[39m c[\u001B[38;5;241m1\u001B[39m]\u001B[38;5;241m*\u001B[39msk\n\u001B[1;32m---> 27\u001B[0m     m \u001B[38;5;241m%\u001B[39m\u001B[38;5;241m=\u001B[39m q\n\u001B[0;32m     28\u001B[0m     m \u001B[38;5;241m%\u001B[39m\u001B[38;5;241m=\u001B[39m t\n\u001B[0;32m     29\u001B[0m     \u001B[38;5;28;01mreturn\u001B[39;00m m\n",
      "\u001B[1;31mTypeError\u001B[0m: unsupported operand type(s) for %=: 'Z17' and 'int'"
     ]
    }
   ],
   "source": [
    "sk = SecretKeyGen(n)\n",
    "pk = PubKeyGen(sk)\n",
    "\n",
    "for p in np.random.randint(2,size=(10,4)):\n",
    "    poly = Z17(p)\n",
    "    c = Encrypt(poly,pk)\n",
    "    m = Decrypt(c,sk,q,t)\n",
    "    print(m == poly)\\"
   ],
   "metadata": {
    "collapsed": false,
    "ExecuteTime": {
     "end_time": "2024-04-08T14:38:10.239143700Z",
     "start_time": "2024-04-08T14:38:10.176090400Z"
    }
   },
   "id": "8f96288b8748ec1a"
  },
  {
   "cell_type": "code",
   "execution_count": 147,
   "outputs": [],
   "source": [],
   "metadata": {
    "collapsed": false,
    "ExecuteTime": {
     "end_time": "2024-04-08T14:37:01.507991600Z",
     "start_time": "2024-04-08T14:37:01.458874300Z"
    }
   },
   "id": "415e8c879343c6b1"
  },
  {
   "cell_type": "code",
   "execution_count": null,
   "outputs": [],
   "source": [],
   "metadata": {
    "collapsed": false
   },
   "id": "3be623eb09880cff"
  }
 ],
 "metadata": {
  "kernelspec": {
   "display_name": "Python 3 (ipykernel)",
   "language": "python",
   "name": "python3"
  },
  "language_info": {
   "codemirror_mode": {
    "name": "ipython",
    "version": 3
   },
   "file_extension": ".py",
   "mimetype": "text/x-python",
   "name": "python",
   "nbconvert_exporter": "python",
   "pygments_lexer": "ipython3",
   "version": "3.11.5"
  }
 },
 "nbformat": 4,
 "nbformat_minor": 5
}
