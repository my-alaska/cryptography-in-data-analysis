{
 "nbformat": 4,
 "nbformat_minor": 0,
 "metadata": {
  "colab": {
   "provenance": []
  },
  "kernelspec": {
   "name": "python3",
   "language": "python",
   "display_name": "Python 3 (ipykernel)"
  },
  "language_info": {
   "name": "python"
  }
 },
 "cells": [
  {
   "cell_type": "markdown",
   "source": [
    "## Wstęp\n",
    "\n",
    "Dzisiaj zapoznasz się z jednym z najważniejszych zagadnień w kryptografii - czyli z funkcjami skrótu. Opowiemy sobie czym one są, do czego służą i gdzie są wykorzystywane na przykładzie standardu SHA-3."
   ],
   "metadata": {
    "id": "gEVzVj9P2_Zc"
   }
  },
  {
   "cell_type": "markdown",
   "source": [
    "## Funkcje skrótu\n",
    "\n",
    "Zwane też: funkcje skracające, funkcje mieszające, funkcje haszujące, a z języka ang. *hashing functions*. W słowniku języka polskiego nie ma oficjalnej nazwy tych funkcji, dlatego podałem wszystkie z którymi możesz się spotkać w literaturze.\n",
    "\n",
    "Z natury są to funkcje jednokierunkowe, które jako wejście przyjmują ciąg binarny o potencjalnie nieograniczonej długości, a jako wyjście zwracają ciąg binarny zawsze tej samej długości:\n",
    "$$\n",
    "h: \\{0, 1\\}^* \\rightarrow  \\{0, 1\\}^n\n",
    "$$\n",
    "gdzie *h* oznacza funkcję skrótu, a *n* to długość zwracanego skrótu. Ta matematyczna definicja nie uwzględnia jednak pewnych dodatkowych właściowści, które funkcja skótu powinna posiadać. Są to:\n",
    "- skrót powinien być łatwy do obliczenia (wydajność),\n",
    "- dysponując funkcją skrótu *h* oraz skrótem oznaczonym jako *h(x)* powinno być niewykonalne (a przynajmniej bardzo, bardzo trudne) znalezienie wartości *x*. Ta własność jest określana jako bezpieczeństwo pierwszego preobrazu (z ang. *first preimage resistance*),\n",
    "- mając **podane** *h* oraz *x*, powinno być bardzo trudne odnalezienie wartości *y* takiej, że *h(x) = h(y)*. Ta własność jest określana jako bezpieczeństwo drugiego preobrazu (z ang. *second preimage resistance*),\n",
    "- powinno być także trudno znaleźć dwie **dowolne** wartości *x* oraz *y* takie, że *h(x) = h(y)*. Ta własność zwana jest odpornością na kolizje (z ang. *collision resistance*).\n",
    "\n",
    "Bezpieczeństwo funkcji skrótu podajemy w tzw. bitach bezpieczeństwa. Jeżeli funkcja skrótu posiada *b* bitów bezpieczeństwa odporności na dany atak, to znaczy, że atakujący musałby wykonać $2^b$ operacji aby atak się udał. Teoretyczne maksymalne wartości liczby bitów bezpieczeństwa to $n$ w przypadku ataków na pierwszy i drugi preobraz, oraz $\\frac{n}{2}$ w przypadku szukaniu kolizji (ta wartość wynika z [paradoksu urodzin](https://en.wikipedia.org/wiki/Birthday_problem)), gdzie tak jak poprzednio *n* oznacza długość zwracanego skrótu. Mówiąc o bezpieczeństwie trzeba jednak pamiętać o jednym. Każda funkcja skrótu jest do złamania. Wynika to z prostego faktu: posiadamy teoretycznie nieograniczoną liczbę wejść, a ograniczoną (choć za zwyczaj jest to wartość duża) liczbę wyjść.\n",
    "\n",
    "No dobrze, tylko gdzie my możemy funkcje skrótu wykorzystać? Obecnie wyszczególniłbym następujące schematy wykorzystujące funkcje skrótu:\n",
    "- przechowywanie haseł w bazie danych,\n",
    "- weryfikacja integralności danych (w szczególności schematy podpisu cyfrowego),\n",
    "- kryptografia post-quantum, w szczególności gałąź zwana *hash-based cryptography*, o której więcej możesz przeczytać [tutaj](https://en.wikipedia.org/wiki/Hash-based_cryptography).\n",
    "\n",
    "W historii były cztery światowe standardy: SHA-0, SHA-1, SHA-2 i SHA-3, gdzie skrót *SHA* oznacza z ang. *Secure Hash Algorithm*. Standaryzacją zajmuje się organizacja NIST (*National Institute of Standards and Technology*) ulokowana w USA. Mało popularny SHA-0 oraz znacznie popularniejszy SHA-1 są **niezalecane do użycia**. Zostały złamane. SHA-2 i SHA-3 to już nie pojedyncze funkcje skrótu, ale raczej ich rodziny. Oznaczenie SHA-256 mówi nam o funkcji skrótu z rodziny SHA-2 zwracającej 256 bitowy skrót. Analogicznie SHA3-256. Najbardziej popularne długości skrótu (choć oczywiście nie jedyne) to 256 i 512 bitów. Standardy SHA które nie zostały złamane i zaleca się je do użycia określamy mianem SHS (z ang. *Secure Hash Standard*)."
   ],
   "metadata": {
    "id": "xkB3GTRg331K"
   }
  },
  {
   "cell_type": "markdown",
   "source": [
    "## SHA-3\n",
    "\n",
    "Po serii udanych ataków na funkcję SHA-1, które miały miejsce w 2004 i 2005 roku, świat został z w zasadzie jednym standardem, SHA-2. NIST i specjaliści z całego świata byli zgodni, że to ryzykowane nie mieć żadnej bezpiecznej alternatywy - stąd w 2007 roku ogłoszono konkurs na SHA-3. Konkurs miał 3 rundy i trwał dość długo, bo wpłynęły aż 64 zgłoszenia. Ostatecznie w 2012 roku ogłoszono, że zwycięzcą został algorytm Keccaka i to on stał się nowym standardem, SHA-3. Dzisiaj go zaprogramujemy.\n",
    "\n",
    "Czy SHA-3 jest trudny do zaprogramowania? Powiem tak. Moim zdaniem, korzystając tylko z dokumentacji twórców trochę tak, bo jest kilka małych pułapek. Dlatego opiszę Ci krok po kroku co powinno się zrobić i będzie nieco łatwiej.\n",
    "\n",
    "Dla zainteresowanych przydatne linki: [strona twórców](https://keccak.team/keccak_specs_summary.html), [NIST FIPS PUB 202](https://nvlpubs.nist.gov/nistpubs/FIPS/NIST.FIPS.202.pdf) i ostatnia, **ważna** która przyda nam się na końcu ćwiczeń: [debug data](https://csrc.nist.gov/Projects/cryptographic-standards-and-guidelines/example-values) - interesuje nas wiersz SHA3-512 z tabeli.\n",
    "\n"
   ],
   "metadata": {
    "id": "wlNKr6pwAUwg"
   }
  },
  {
   "cell_type": "markdown",
   "source": [
    "### Krok 1 - stałe\n",
    "\n",
    "SHA-3 jest bardzo wszechstronny, pozwala dopasować wersję algorytmu do długości słowa bitowego obsługiwanego przez nasz procesor. Dla najbardziej popularnej długości obecnie, czyli 64 bity, stosuje się wersję algorytmu zwaną Keccak-1600. Można stosować inne, opisane w NIST FIPS PUB 202, ale my kierujemy się wydajnością. 1600 oznacza, że w każdej rundzie algorytmu będziemy operować na 1600 bitach danych, a więc 200 bajtach. Ta liczba oczywiście jest nieprzypadkowa. Zauważ, że 200 bajtów, to dokładnie 25 słów bitowych, każde po 64 bity. Te 25 słów bitowych formowane jest w dwuwymiarową tablicę 5x5. Ta tablica zwana jest przez twórców *State*.\n",
    "\n",
    "No dobrze, ale jak się do tego ma wiadomość? Tutaj z pomocą przychodzą dwie stałe: $r$ oraz $c$ opisane [tu](https://keccak.team/keccak.html). Stała $r$ oznacza *bit rate*, $c$ *capacity*, a ich wartości zależą od tego, jaką wersję algorytmu SHA-3 zastosujemy (my skupimy się na SHA3-512). SHA-3 działa na zasadzie funkcji gąbki, to znaczy w pętli głównej wchłaniana jest odpowiednia liczba bitów wiadomości do tablicy state, wykonujemy odpowiednie obliczenia, wchłaniamy kolejną porcję, liczymy itd. W naszym przypadku $r = 576$ bitów, a więc 72 bajty. $c$ to po prostu uzupełnienie, zauważ, że wchłaniana liczba bitów jest mniejsza niż rozmiar State, stąd dla $c = 1024$, $r + c = 1600$.\n",
    "\n",
    "$n$ oznacza liczbę rund. Po wchłonięciu porcji danych $n$ razy wykonujemy zestaw funkcji opisanych przez twórców (o których później), gdzie $n = 12 + 2l$. Z tabeli 1 w dokumentacji NIST można wyczytać, że dla wersji Keccak-1600, $l = 6$, a więc nasza liczba rund to $n = 24$.\n",
    "\n",
    "$RC$ to tablica 24 stałych, po jednej dla każdej z 24 rund, natomiast $rotations$ to tablica wartości, która mówi nam o ile mamy rotować słowo bitowe. Jest ona potrzebna w jednej funkcji z zestawu przedstawionego przez twórców.\n",
    "\n",
    "Zadeklarujmy nasze stałe. Dla wygody wartości $r$ oraz $c$ zadeklarujemy jako liczbę bajtów."
   ],
   "metadata": {
    "id": "AfmSrvTFOE6F"
   }
  },
  {
   "cell_type": "code",
   "source": [
    "n = 24\n",
    "r = 576 // 8\n",
    "c = 1024 // 8\n",
    "\n",
    "RC = [\n",
    "    0x0000000000000001,\n",
    "    0x0000000000008082,\n",
    "    0x800000000000808A,\n",
    "    0x8000000080008000,\n",
    "    0x000000000000808B,\n",
    "    0x0000000080000001,\n",
    "    0x8000000080008081,\n",
    "    0x8000000000008009,\n",
    "    0x000000000000008A,\n",
    "    0x0000000000000088,\n",
    "    0x0000000080008009,\n",
    "    0x000000008000000A,\n",
    "    0x000000008000808B,\n",
    "    0x800000000000008B,\n",
    "    0x8000000000008089,\n",
    "    0x8000000000008003,\n",
    "    0x8000000000008002,\n",
    "    0x8000000000000080,\n",
    "    0x000000000000800A,\n",
    "    0x800000008000000A,\n",
    "    0x8000000080008081,\n",
    "    0x8000000000008080,\n",
    "    0x0000000080000001,\n",
    "    0x8000000080008008,\n",
    "]\n",
    "\n",
    "# have to convert it to bytes...\n",
    "RC = [rc.to_bytes(8, \"little\") for rc in RC]\n",
    "\n",
    "rotations = [\n",
    "    [0, 36, 3, 41, 18],\n",
    "    [1, 44, 10, 45, 2],\n",
    "    [62, 6, 43, 15, 61],\n",
    "    [28, 55, 25, 21, 56],\n",
    "    [27, 20, 39, 8, 14],\n",
    "]"
   ],
   "metadata": {
    "id": "4hrOMGGATVG9",
    "ExecuteTime": {
     "end_time": "2024-02-28T20:39:42.518408100Z",
     "start_time": "2024-02-28T20:39:42.495406300Z"
    }
   },
   "execution_count": 103,
   "outputs": []
  },
  {
   "cell_type": "markdown",
   "source": [
    "### Krok 2 - Padding\n",
    "\n",
    "Zauważ, że w każdej głównej iteracji algorytmu wchłaniamy 72 bajty wiadomości (wartość $r$). Jest bardzo mało prawdopodobne, że nasza wiadomość będzie akurat miała długość w bajtach równą 72 lub wielokrotności 72. Tutaj z pomocą przychodzi *padding*, czyli uzupełnianie wiadomości do wymaganej długości. Wskazówka: jako *wiadomość* rozum ciąg bajtów, czyli *bytearray* z którym będziemy robić sporo rzeczy.\n",
    "\n",
    "SHA-3 stosuje metodę pad10*110, czyli w zamyśle dołącz do wiadomości bit 1, następnie odpowiednią liczbę bitów 0 i zamknij ciąg bitem 1. W SHA-3 ten algorytm jest wzbogacony o stałą 0x06:\n",
    "\n",
    "1) Oblicz q = r - (len(msg) mod r). Zauważ, że $r$ i $len(m)$ zwracają długości w bajtach.\n",
    "\n",
    "2) Jeżeli q = 1 wykonaj: dołącz do wiadomości bajt 0x86.\n",
    "\n",
    "3) Jeżeli q = 2 wykonaj: dołącz do wiadomości bajt 0x06, a następnie dołącz do wiadomości bajt 0x80.\n",
    "\n",
    "4) Jeżeli q > 2 wykonaj: dołącz do wiadomości bajt 0x06, następnie dołącz do wiadomości dokładnie $q - 2$ bajty 0x00 i na końcu dołącz do wiadomości bajt 0x80.\n",
    "\n",
    "Sprawdź reprezentację bitową 0x80 oraz 0x86, jak wspominałem stała 0x06 to już dodatek autorów. Czy widzisz w powyższym algorytmie coś dziwnego? Jakiego porządku bitów używa SHA-3? W każdym przypadku, po operacji paddingu len(msg) powinno być wielokrotnością 72."
   ],
   "metadata": {
    "id": "EodJOWLNMsN4"
   }
  },
  {
   "cell_type": "markdown",
   "source": [
    "**Zadanie 1**\n",
    "\n",
    "Napisz ciało metody pad10*1. Parametrem metody jest tablica bajtów wiadomości (bytearray)."
   ],
   "metadata": {
    "id": "W5To137vWc3N"
   }
  },
  {
   "cell_type": "code",
   "source": [
    "# pad\n",
    "def pad_with_ifs(msg: str):\n",
    "    bytes = bytearray(msg.encode())\n",
    "\n",
    "    q = r - len(bytes) % r\n",
    "    if q == 1:\n",
    "        bytes += bytearray([0x86])\n",
    "    else:\n",
    "        bytes += bytearray([0x06] + [0x00 for _ in range(q - 2)] + [0x80])\n",
    "\n",
    "    return bytes\n",
    "\n",
    "\n",
    "# better pad (without \"if\" statement)\n",
    "def pad(msg: str):\n",
    "    bytes = bytearray(msg.encode())\n",
    "    q = r - len(bytes) % r\n",
    "    bytes += bytearray([0x06])  # append 0x06\n",
    "    bytes += bytearray([0x00 for _ in range(q - 1)])  # append zeros\n",
    "    bytes[-1] |= 0x80  # logic or with the last byte\n",
    "\n",
    "    return bytes"
   ],
   "metadata": {
    "id": "6HMzphulBVFS",
    "ExecuteTime": {
     "end_time": "2024-02-28T20:39:42.584412Z",
     "start_time": "2024-02-28T20:39:42.501407100Z"
    }
   },
   "execution_count": 104,
   "outputs": []
  },
  {
   "cell_type": "markdown",
   "source": [
    "### Krok 3 - funkcje pomocnicze\n",
    "\n",
    "Będziemy potrzebowali operować na wartości State na dwa sposoby: raz jako na tablicy bajtów o długości 200 (potrzebne przy wchłanianiu danych), a raz jako na dwuwymiarowej tablicy 64-bitowych słów o rozmiarach 5x5 (potrzebne w dalszej części). Musimy napisać łącznie trzy funkcje pomocnicze:\n",
    "\n",
    "1) convertToInts(state) - ta funkcja powinna pobierać State w formie wektora bajtów i zwracać tablicę 5x5. Algorytm jest taki, że licząc od początku pobieramy po 8 bajtów (64 bity) i przypisujemy do nowego State'a (oznaczmy go jako State'), ale uwaga, dane układamy wierszami. A więc bajty 0-7 wektora State konwertujemy na liczbę i przypisujemy do State'[0][0], bajty 8-15 ze State przypisujemy jako liczbę do State'[1][0] itd. Dodatkowo, konwertując bajty na liczby używamy porządku **Little Endian**.\n",
    "\n",
    "2) convertToBytes(state) - ta funkcja pobiera State jako dwuwymiarową tablicę i konwertuje z poworotem na wektor bajtów State' (nowy State). Dane również pobieramy wierszami i dekodujemy w porządku **Little Endian**. A więc liczba przechowywana w State[0][0] jest kodowana jako 8 pierwszych bajtów State', liczba w State[1][0] jako 8 kolejnych bajtów itd. Czyli robimy funkcję odwrotną do poprzedniej. Funkcja zwraca State' o rozmiarze 1600 bitów.\n",
    "\n",
    "3) rot(a, b) - ta funkcja dokonuje bitowej rotacji 64 bitowej liczby $a$ w lewo o $b$ bitów."
   ],
   "metadata": {
    "id": "KSPS48JSXTt7"
   }
  },
  {
   "cell_type": "markdown",
   "source": [
    "**Zadanie 2**\n",
    "\n",
    "Uzupełnij ciała metod convertToBytes oraz convertToInts zgodnie z powyższym opisem."
   ],
   "metadata": {
    "id": "AskmpirVaKUr"
   }
  },
  {
   "cell_type": "code",
   "source": [
    "from typing import List\n",
    "\n",
    "\n",
    "def convertToInts(state: bytearray):\n",
    "    result = [[] for _ in range(5)]\n",
    "    for i in range(len(state) // 8):\n",
    "        result[i % 5].append(state[i * 8 : (i + 1) * 8])\n",
    "    return result\n",
    "\n",
    "\n",
    "def convertToBytes(state: List[List[bytearray]]):\n",
    "    result = bytearray([])\n",
    "    for i in range(5):\n",
    "        for j in range(5):\n",
    "            result += state[j][i]\n",
    "    return result\n",
    "\n",
    "\n",
    "def rot(a: bytes, b: int, bits: int = 64):\n",
    "    a = int.from_bytes(a, \"little\")\n",
    "    b %= bits  # this allows for easy handling of negative b\n",
    "    return (a >> (bits - b) | a << b & 2**bits - 1).to_bytes(bits // 8, \"little\")"
   ],
   "metadata": {
    "id": "4wZLyuXoX26t",
    "ExecuteTime": {
     "end_time": "2024-02-28T20:39:42.585410600Z",
     "start_time": "2024-02-28T20:39:42.520408100Z"
    }
   },
   "execution_count": 105,
   "outputs": []
  },
  {
   "cell_type": "code",
   "execution_count": 106,
   "outputs": [
    {
     "data": {
      "text/plain": "b'\\xbb\\xaa\\xbb\\xcc\\xdd\\xee\\xff\\xaa'"
     },
     "execution_count": 106,
     "metadata": {},
     "output_type": "execute_result"
    }
   ],
   "source": [
    "x = bytearray([0xAA, 0xBB, 0xCC, 0xDD, 0xEE, 0xFF, 0xAA, 0xBB])\n",
    "rot(x, 8)"
   ],
   "metadata": {
    "collapsed": false,
    "ExecuteTime": {
     "end_time": "2024-02-28T20:39:42.586410500Z",
     "start_time": "2024-02-28T20:39:42.532408500Z"
    }
   }
  },
  {
   "cell_type": "markdown",
   "source": [
    "### Krok 4 - permutacje\n",
    "\n",
    "SHA-3 wykorzystuje zestaw pięciu permutacji, które wykorzystywane są w każdej pojedynczej rundzie (*rundzie*, nie iteracji pętli głównej algorytmu). Nie są one skomplikowane, dlatego nie będziemy pisali oddzielnej funkcji do każdej z nich. Każda z nich korzysta ze State'a jako tablicy liczby 5x5.\n",
    "**NOTE: indeksy liczymy modulo 5.**\n",
    "\n",
    "1) Krok $Θ$ wykonaj:\n",
    "- C[i] = state[i][0] xor state[i][1] xor state[i][2] xor state[i][3] xor state[i][4] dla i = 0,...,4. C to wektor pomocniczy.\n",
    "- D[i] = C[i-1] xor rot(C[i+1], 1) dla i = 0,...,4, D to wektor pomocniczy.\n",
    "- state[i][j] = state[i][j] xor D[i], dla i,j = 0,...,4.\n",
    "\n",
    "2) Kroki $ρ$ oraz $π$ wykonaj: B[j][2 * i + 3 * j] = rot(state[i][j], rotations[i][j]), B to zmienna pomocnicza.\n",
    "\n",
    "3) Krok $Χ$ wykonaj: state[i][j] = B[i][j] xor ((~B[i + 1][j]) & B[i + 2][j]).\n",
    "\n",
    "4) Krok $ι$ wykonaj: state[0][0] = state[0][0] xor RC. RC to stała, którą będziemy przekazywać do funkcji realizującej te permutacje."
   ],
   "metadata": {
    "id": "qeuomyBScMxn"
   }
  },
  {
   "cell_type": "markdown",
   "source": [
    "Ostatecznie mamy do napisania dwie funkcje w pythonie: *compute* i *oneRound*.\n",
    "\n",
    "Funkcja *compute(state)* przyjmuje jako parametr State w formie wektora bajtów i wykonuje następujące czynności:\n",
    "\n",
    "1) Przekonwertuj State do formy tablicy liczb.\n",
    "\n",
    "2) Wykonuj *state = oneRound(state, RC[i])* dla i = 0,...,n-1\n",
    "\n",
    "3) Przekonwertuj State do wektora bajtów.\n",
    "\n",
    "4) Zwróc State.\n",
    "\n",
    "Funkcja *oneRound(state, RC)* wykonuje obliczenia dla pojedynczej rundy:\n",
    "\n",
    "1) Utwórz niezbędne zmienne pomocnicze.\n",
    "\n",
    "2) Wykonaj krok $Θ$.\n",
    "\n",
    "3) Wykonaj kroki $ρ$ oraz $π$.\n",
    "\n",
    "4) Wykonaj krok $Χ$.\n",
    "\n",
    "5) Wykonaj krok $ι$.\n",
    "\n",
    "6) Zwróć State."
   ],
   "metadata": {
    "id": "b6u89lmAfuvl"
   }
  },
  {
   "cell_type": "markdown",
   "source": [
    "**Zadanie 3**\n",
    "\n",
    "Uzupełnij ciała metod *compute* i *oneRound* zgodnie z algorytmem opisanym powyżej."
   ],
   "metadata": {
    "id": "_owGLju_h3Od"
   }
  },
  {
   "cell_type": "code",
   "source": [
    "mini_xor = lambda A, B: bytearray(a ^ b for a, b in zip(A, B))\n",
    "\n",
    "\n",
    "def xor(L):\n",
    "    res = bytes(8)\n",
    "    for l in L:\n",
    "        res = mini_xor(res, l)\n",
    "    return res\n",
    "\n",
    "\n",
    "def compute(state):\n",
    "    state = convertToInts(state)\n",
    "    for i in range(n):\n",
    "        state = oneRound(state, RC[i])\n",
    "    return convertToBytes(state)\n",
    "\n",
    "\n",
    "def oneRound(state, RC):\n",
    "    C = [\n",
    "        xor([state[i][0], state[i][1], state[i][2], state[i][3], state[i][4]])\n",
    "        for i in range(5)\n",
    "    ]\n",
    "\n",
    "    D = [mini_xor(C[(i - 1) % 5], rot(C[(i + 1) % 5], 1)) for i in range(5)]\n",
    "\n",
    "    for i in range(5):\n",
    "        for j in range(5):\n",
    "            state[i][j] = mini_xor(state[i][j], D[i])\n",
    "\n",
    "    B = [[None for _ in range(5)] for _ in range(5)]\n",
    "    for i in range(5):\n",
    "        for j in range(5):\n",
    "            B[j][(2 * i + 3 * j) % 5] = rot(state[i][j], rotations[i][j])\n",
    "\n",
    "    for i in range(5):\n",
    "        for j in range(5):\n",
    "            state[i][j] = mini_xor(\n",
    "                B[i][j],\n",
    "                bytearray(\n",
    "                    ~b1 & b2 for b1, b2 in zip(B[(i + 1) % 5][j], B[(i + 2) % 5][j])\n",
    "                ),\n",
    "            )\n",
    "\n",
    "    state[0][0] = mini_xor(state[0][0], RC)\n",
    "\n",
    "    return state"
   ],
   "metadata": {
    "id": "yuKdhlW3fb7M",
    "ExecuteTime": {
     "end_time": "2024-02-28T20:39:42.586410500Z",
     "start_time": "2024-02-28T20:39:42.550408500Z"
    }
   },
   "execution_count": 107,
   "outputs": []
  },
  {
   "cell_type": "markdown",
   "source": [
    "### Krok 5 - główna pętla algorytmu\n",
    "\n",
    "Wreszcie możemy napisać funkcję główną liczącą skrót *sha3-512*. Przyjmuje ona jako parametr bajty wiadomości $m$ i zwraca bajty skrótu:\n",
    "\n",
    "1) Dokonaj paddingu wiadomości.\n",
    "\n",
    "2) Wchłoń $r$ bajtów wiadomości do State'a. \"Wchłanianie\" oznacza tu operację XOR kolejnych bajtów wiadomości z $r$ początkowymi bajtami State'a.\n",
    "\n",
    "3) Wywołaj metodę *compute(state)*.\n",
    "\n",
    "4) Powtarzaj kroki 2 i 3 dopóki cała wiadomość nie zostanie wchłonięta.\n",
    "\n",
    "5) Zwróć pierwsze 64 bajty State'a. To jest nasz 512-bitowy skrót."
   ],
   "metadata": {
    "id": "4NTQeHwJiR30"
   }
  },
  {
   "cell_type": "markdown",
   "source": [
    "**Zadanie 4**\n",
    "\n",
    "Uzupełnij kod poniższej metody tak, aby zwracała skrót z wiadomości. Przetestuj tę metodę, czy działa prawidłowo. Tablicę bajtów przez nią zwróconą trzeba przekonwertować na ciąg znaków hexadecymalnych i wypisać na ekranie. Przetestuj funkcję dla poniższych ciągów znakowych:\n",
    "\n",
    "1) \"\"\n",
    "\n",
    "2) \"aaaaaaaaaaaaaaaaaaaaaaaaaaaaaaaaaaaaaaaaaaaaaaaaaaaaaaaaaaaaaaaaaaaaaaaa\"\n",
    "\n",
    "3) \"aaaaaaaaaaaaaaaaaaaaaaaaaaaaaaaaaaaaaaaaaaaaaaaaaaaaaaaaaaaaaaaaaaaaaaaaaaaaaaaa\"\n",
    "\n",
    "Porównaj, czy skróty zgadzają się ze zwróconymi z [tego](https://www.browserling.com/tools/sha3-hash) kalkulatora lub zaimportuj bibliotekę hashlib i porównaj swoje wyniki z jej wynikami."
   ],
   "metadata": {
    "id": "e1w8TPGWjwqe"
   }
  },
  {
   "cell_type": "code",
   "execution_count": 108,
   "outputs": [],
   "source": [
    "def my_sha3_512(m):\n",
    "    m = pad(m)\n",
    "    state = bytearray([0] * 200)\n",
    "    for i in range(len(m) // r):\n",
    "        state[:r] = mini_xor(state[:r], m[i * r : (i + 1) * r])\n",
    "        state = compute(state)\n",
    "    return state[:64]"
   ],
   "metadata": {
    "collapsed": false,
    "ExecuteTime": {
     "end_time": "2024-02-28T20:39:42.586410500Z",
     "start_time": "2024-02-28T20:39:42.564410800Z"
    }
   }
  },
  {
   "cell_type": "code",
   "source": [
    "# TESTS\n",
    "m = \"aaa\"\n",
    "out = my_sha3_512(m)\n",
    "\n",
    "# convert out to hexadecimal string and print it\n",
    "result = int.from_bytes(out, \"big\")\n",
    "hex(result)"
   ],
   "metadata": {
    "id": "jXHijtPGky-3",
    "ExecuteTime": {
     "end_time": "2024-02-28T20:39:42.602411Z",
     "start_time": "2024-02-28T20:39:42.579410900Z"
    }
   },
   "execution_count": 109,
   "outputs": [
    {
     "data": {
      "text/plain": "'0xf6518719cabaf6268c008ecca3f39c166720d252b9b5053a8b37a7f40465222fd8485e122e27eb387894f52b913d7aa0a3b615fbd62fff573dbdf3ba381c7ef2'"
     },
     "execution_count": 109,
     "metadata": {},
     "output_type": "execute_result"
    }
   ]
  },
  {
   "cell_type": "code",
   "execution_count": 110,
   "outputs": [
    {
     "data": {
      "text/plain": "True"
     },
     "execution_count": 110,
     "metadata": {},
     "output_type": "execute_result"
    }
   ],
   "source": [
    "# score from the original calculator\n",
    "result == int(\n",
    "    \"f6518719cabaf6268c008ecca3f39c166720d252b9b5053a8b37a7f40465222fd8485e122e27eb387894f52b913d7aa0a3b615fbd62fff573dbdf3ba381c7ef2\",\n",
    "    16,\n",
    ")"
   ],
   "metadata": {
    "collapsed": false,
    "ExecuteTime": {
     "end_time": "2024-02-28T20:39:42.657414600Z",
     "start_time": "2024-02-28T20:39:42.596413300Z"
    }
   }
  },
  {
   "cell_type": "code",
   "execution_count": 111,
   "outputs": [],
   "source": [
    "to_encode = [\n",
    "    \"\",\n",
    "    \"aaaaaaaaaaaaaaaaaaaaaaaaaaaaaaaaaaaaaaaaaaaaaaaaaaaaaaaaaaaaaaaaaaaaaaaa\",\n",
    "    \"aaaaaaaaaaaaaaaaaaaaaaaaaaaaaaaaaaaaaaaaaaaaaaaaaaaaaaaaaaaaaaaaaaaaaaaaaaaaaaaa\",\n",
    "]\n",
    "\n",
    "results = [int.from_bytes(my_sha3_512(m), \"big\") for m in to_encode]\n",
    "\n",
    "# from the internet calculator\n",
    "correct_encodings = [\n",
    "    int(\n",
    "        \"a69f73cca23a9ac5c8b567dc185a756e97c982164fe25859e0d1dcc1475c80a615b2123af1f5f94c11e3e9402c3ac558f500199d95b6d3e301758586281dcd26\",\n",
    "        16,\n",
    "    ),\n",
    "    int(\n",
    "        \"a8ae722a78e10cbbc413886c02eb5b369a03f6560084aff566bd597bb7ad8c1ccd86e81296852359bf2faddb5153c0a7445722987875e74287adac21adebe952\",\n",
    "        16,\n",
    "    ),\n",
    "    int(\n",
    "        \"208c7a62579fc826dd6be329089bba5e782f01a2ca3d9890a583042560164e97eda638108d69cc965aa8c6c073256717d9c4985921f43544a7a5675148b13c1f\",\n",
    "        16,\n",
    "    ),\n",
    "]"
   ],
   "metadata": {
    "collapsed": false,
    "ExecuteTime": {
     "end_time": "2024-02-28T20:39:42.673414Z",
     "start_time": "2024-02-28T20:39:42.612412Z"
    }
   }
  },
  {
   "cell_type": "code",
   "execution_count": 112,
   "outputs": [
    {
     "data": {
      "text/plain": "True"
     },
     "execution_count": 112,
     "metadata": {},
     "output_type": "execute_result"
    }
   ],
   "source": [
    "results == correct_encodings"
   ],
   "metadata": {
    "collapsed": false,
    "ExecuteTime": {
     "end_time": "2024-02-28T20:39:42.683414800Z",
     "start_time": "2024-02-28T20:39:42.628412Z"
    }
   }
  },
  {
   "cell_type": "markdown",
   "source": [
    "**Zadanie 5**\n",
    "\n",
    "Porównaj szybkość działania Twojej implementacji SHA3-512 z implementacjami SHA3-512 oraz SHA-512 dostępnymi w bibliotece hashlib. Postaraj się aby porównanie uwzględniało zarówno dane bardzo małe, jak i duże (na ile Ci pozwoli collab), a wyniki przedstaw na wykresie."
   ],
   "metadata": {
    "id": "xKc39ziTpnPK"
   }
  },
  {
   "cell_type": "code",
   "execution_count": 113,
   "outputs": [
    {
     "name": "stdout",
     "output_type": "stream",
     "text": [
      "0.06600308418273926\n",
      "0.0\n",
      "0.0\n"
     ]
    }
   ],
   "source": [
    "from hashlib import sha512, sha3_512\n",
    "from time import time\n",
    "\n",
    "long_text = \"asjoigjoag\" * 200\n",
    "\n",
    "start = time()\n",
    "my_sha3_512(long_text)\n",
    "end = time()\n",
    "print(end - start)\n",
    "\n",
    "functions = [sha512, sha3_512]\n",
    "\n",
    "for f in functions:\n",
    "    start = time()\n",
    "    f(long_text.encode(\"utf-8\"))\n",
    "    end = time()\n",
    "    print(end - start)"
   ],
   "metadata": {
    "collapsed": false,
    "ExecuteTime": {
     "end_time": "2024-02-28T20:39:42.736417200Z",
     "start_time": "2024-02-28T20:39:42.644412800Z"
    }
   }
  },
  {
   "cell_type": "markdown",
   "source": [
    "Wygląda na to, że funkcjie biblioteczne są wiele razy szybsze od naszej. Zapewne przez użycie optymalnych struktur danych lub implementację w innym języku programowania"
   ],
   "metadata": {
    "collapsed": false
   }
  },
  {
   "cell_type": "markdown",
   "source": [
    "**Zadanie 6**\n",
    "\n",
    "Przerób powyższy kod tak, aby stał się funkcją SHA3-256."
   ],
   "metadata": {
    "id": "YcRhMDB6t9_z"
   }
  },
  {
   "cell_type": "code",
   "execution_count": 120,
   "outputs": [],
   "source": [
    "n = 24\n",
    "r = 1088 // 8\n",
    "c = 512 // 8"
   ],
   "metadata": {
    "collapsed": false,
    "ExecuteTime": {
     "end_time": "2024-02-28T20:40:38.405692700Z",
     "start_time": "2024-02-28T20:40:38.391692600Z"
    }
   }
  },
  {
   "cell_type": "code",
   "execution_count": 121,
   "outputs": [],
   "source": [
    "def my_sha3_256(m):\n",
    "    m = pad(m)\n",
    "    state = bytearray([0] * 200)\n",
    "    for i in range(len(m) // r):\n",
    "        state[:r] = mini_xor(state[:r], m[i * r : (i + 1) * r])\n",
    "        state = compute(state)\n",
    "    return state[:32]"
   ],
   "metadata": {
    "collapsed": false,
    "ExecuteTime": {
     "end_time": "2024-02-28T20:40:38.688125Z",
     "start_time": "2024-02-28T20:40:38.678123900Z"
    }
   }
  },
  {
   "cell_type": "code",
   "execution_count": 122,
   "outputs": [
    {
     "data": {
      "text/plain": "True"
     },
     "execution_count": 122,
     "metadata": {},
     "output_type": "execute_result"
    }
   ],
   "source": [
    "out = my_sha3_256(\"aaa\")\n",
    "result = int.from_bytes(out, \"big\")\n",
    "\n",
    "# compare with the calculator result\n",
    "result == int(\n",
    "    \"80fb34a2c6bc537d2d044c013042b3b36239aaf3cfd381d62a9ab8e8753876d0\",\n",
    "    16,\n",
    ")"
   ],
   "metadata": {
    "collapsed": false,
    "ExecuteTime": {
     "end_time": "2024-02-28T20:40:39.012468600Z",
     "start_time": "2024-02-28T20:40:38.979228500Z"
    }
   }
  },
  {
   "cell_type": "code",
   "execution_count": 117,
   "outputs": [],
   "source": [],
   "metadata": {
    "collapsed": false,
    "ExecuteTime": {
     "end_time": "2024-02-28T20:39:42.812420900Z",
     "start_time": "2024-02-28T20:39:42.787419300Z"
    }
   }
  }
 ]
}
