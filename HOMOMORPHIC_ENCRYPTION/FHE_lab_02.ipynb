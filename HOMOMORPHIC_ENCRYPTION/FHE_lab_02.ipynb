{
 "cells": [
  {
   "cell_type": "markdown",
   "id": "6df910e1",
   "metadata": {},
   "source": [
    "# Szyfrowanie w pełni holomorficzne - Laboratorium 02"
   ]
  },
  {
   "cell_type": "markdown",
   "id": "a4131bd8",
   "metadata": {},
   "source": [
    "## Zadanie 1.\n",
    "\n",
    "Skopiuj kod pierścienia $\\mathbb{Z}_{17}[X]/(X^4+1)$ wraz z arytmetyką oraz kod uproszczonej wersji algorytmu BGV z poprzednich zajęć - przydadzą się."
   ]
  },
  {
   "cell_type": "code",
   "execution_count": 7,
   "id": "3a117378",
   "metadata": {
    "ExecuteTime": {
     "end_time": "2024-04-15T14:20:34.584842100Z",
     "start_time": "2024-04-15T14:20:34.576733700Z"
    }
   },
   "outputs": [],
   "source": [
    "# pierścień Rq\n",
    "\n",
    "import numpy as np\n",
    "\n",
    "x4p1 = np.array([1, 0, 0, 0, 1])\n",
    "\n",
    "class Z17:\n",
    "    def __init__(self, poly: np.array):\n",
    "        _, p = np.polydiv(poly, x4p1)\n",
    "        self.poly = np.array([0,0,0,0])\n",
    "        self.poly[-(p.shape[0]):] = p\n",
    "        self.poly %= 17\n",
    "\n",
    "    def __mul__(self, other):\n",
    "        if isinstance(other, Z17):\n",
    "            return Z17(np.polymul(self.poly, other.poly))\n",
    "        return Z17(self.poly * other)\n",
    "\n",
    "    __rmul__ = __mul__\n",
    "\n",
    "    def __add__(self, other):\n",
    "        return Z17(np.polyadd(self.poly, other.poly))\n",
    "\n",
    "    __radd__ = __add__\n",
    "\n",
    "    def __neg__(self):\n",
    "        return -1 * self\n",
    "    \n",
    "    def __mod__(self, other):\n",
    "        return Z17(self.poly % other)\n",
    "    \n",
    "    def __eq__(self,other):\n",
    "        return self.poly == other.poly\n",
    "\n",
    "    def __repr__(self):\n",
    "        p =  [(f\"{a}\" if a != 1 else \"\") + f\"x^{3 - i}\" for i, a in enumerate(self.poly[:-1].astype(int)) if a != 0] \n",
    "        if self.poly[-1] != 0:\n",
    "            p += [f\"{int(self.poly[-1])}\"]\n",
    "        return \" +\".join(p)"
   ]
  },
  {
   "cell_type": "code",
   "execution_count": 8,
   "id": "7495f1f3",
   "metadata": {
    "ExecuteTime": {
     "end_time": "2024-04-15T14:20:34.600734200Z",
     "start_time": "2024-04-15T14:20:34.587733Z"
    }
   },
   "outputs": [],
   "source": [
    "# algorytm BGV\n",
    "\n",
    "n = 4 \n",
    "q = 17\n",
    "t = 2\n",
    "\n",
    "prob = 0.9\n",
    "\n",
    "def SecretKeyGen(n):\n",
    "    # sk =  np.random.binomial(2,0.5,size=n)-1\n",
    "    sk = np.random.choice([-1,0,1],n,p=[0.,prob,1-prob])\n",
    "    return Z17(sk)\n",
    "\n",
    "def PubKeyGen(sk):\n",
    "    a = Z17(np.random.randint(q,size=n))\n",
    "    e = Z17(np.random.choice([-1,0,1],n,p=[0.,prob,1-prob]))\n",
    "    \n",
    "    pk0 = a*sk + t*e\n",
    "    pk1 = -a\n",
    "    return (pk0,pk1)\n",
    "\n",
    "def Encrypt(m,pk):\n",
    "    e0 = Z17(np.random.choice([-1,0,1],n,p=[0.,prob,1-prob]))\n",
    "    e1 = Z17(np.random.choice([-1,0,1],n,p=[0.,prob,1-prob]))\n",
    "    u = np.random.choice([-1,0,1],n,p=[0.,prob,1-prob])\n",
    "    c0 = pk[0]*u + t*e0 + m\n",
    "    c1 = pk[1]*u + t*e1\n",
    "    return (c0,c1)\n",
    "\n",
    "def Decrypt(c, sk, q, t):\n",
    "    m = c[0] + c[1]*sk\n",
    "    # m %= q # implicitly handled above\n",
    "    m %= t\n",
    "    return m"
   ]
  },
  {
   "cell_type": "markdown",
   "id": "a15aa013",
   "metadata": {},
   "source": [
    "## Dodawanie `Add`"
   ]
  },
  {
   "cell_type": "markdown",
   "id": "5bbf98c3",
   "metadata": {},
   "source": [
    "Załóżmy, że mamy dwie wiadomości zaszyfrowane tym samym kluczem prywatnym, tzn. dwie pary $(c_0,c_1)$ oraz $(c'_0,c'_1)$. Naturalnym sposobem zdefiniowania sumy jest $$c_0^{\\ast}=c_0+c'_0$$ $$c_1^{\\ast}=c_1+c'_1$$czyli szyfrogram sumy to $$c^{\\ast}=(c_0^{\\ast},c_1^{\\ast}).$$\n",
    "\n",
    "To podejście me jeden problem: z każdą operacją sumowania wzrasta zaszumienie końcowego szyfrogramu, co może skutkować błędnym deszyfrowaniem, jednak nie aż tak bardzo jak to się dzieje w przypadku mnożenia."
   ]
  },
  {
   "cell_type": "markdown",
   "id": "36409715",
   "metadata": {},
   "source": [
    "## Mnożenie `Mul`"
   ]
  },
  {
   "cell_type": "markdown",
   "id": "e5463481",
   "metadata": {},
   "source": [
    "Jak przy dodawaniu mamy dwie wiadomości zaszyfrowane tym samym kluczem prywatnym, tzn. dwie pary $(c_0,c_1)$ oraz $(c'_0,c'_1)$. W przypadku naturalnej definicji mnożenia sprawy się komplikują: jeżeli popatrzymy na funkcję `Decrypt`, to wiadomości $m$ i $m'$ kryjące się za naszymi szyfrogramami są postaci $$m=c_0+c_1s$$ $$m'=c'_0+c'_1s.$$Jeżeli teraz pomnożymy te dwie wiadomości, to otrzymamy $$mm'=(c_0+c_1s)(c'_0+c'_1s)=c_0c'_0+(c_0c'_1+c'_0c_1)s+c_1c'_1s^2$$\n",
    "Otrzymujemy zatem **trzy** współrzędne końcowego szyfrogramu:\n",
    "\\begin{eqnarray*}\n",
    "c^{\\ast}_0=c_0c'_0\\\\\n",
    "c^{\\ast}_1=c_0c'_1+c'_0c_1\\\\\n",
    "c^{\\ast}_2=c_1c'_1\n",
    "\\end{eqnarray*}\n",
    "Jako wynik mnożenia zwracamy szyfrogram $$c^{\\ast}=(c_0^{\\ast},c_1^{\\ast},c_2^{\\ast}).$$\n",
    "W tym przypadku oprócz problemu z narastającym zaszumieniem mamy jeszcze problem z dodatkową współrzędną, której nie bierze pod uwagę nasza implementacja funkcji deszyfrującej."
   ]
  },
  {
   "cell_type": "markdown",
   "id": "6466c636",
   "metadata": {},
   "source": [
    "## Prosta relinearyzacja `KeySwitch`\n",
    "\n",
    "Niech $c^{\\ast}=(c_0^{\\ast},c_1^{\\ast},c_2^{\\ast})$ będzie wynikiem mnożenia dwóch wiadomości $m_1$ i $m_2$ zaszyfrowanych przy pomocy klucza publicznego $(pk_0, pk_1)$ i klucza prywatnego $s$. Żeby pozbyć się współrzędnej $c_2^{\\ast}$ (i przekształcić postać iloczynu $mm'$ z kwadratowej na liniową) stosujemy *zmianę klucza*.\n",
    "\n",
    "**Krok 1 - rozkład wielomianu.** Najpierw zapisujemy wszystkie współczynniki wielomianu $c_2^{\\ast}=w_0+w_1x+w_2x^2+w_3x^3$ w reprezentacji w systemie dwójkowym, tzn. $$w_i=\\sum_{j=0}^{\\lfloor \\log_2 q\\rfloor+1}2^jw^{(j)}_i,\\ \\ i=0,1,2,3$$\n",
    "\n",
    "Konstruujemy nowe wielomiany dla $j=0,...,\\lfloor \\log_2 q\\rfloor+1$ $$c_2^{\\ast (j)}=w^{(j)}_0+w^{(j)}_1x+w^{(j)}_2x^2+w^{(j)}_3x^3$$i za ich pomocą rozkładamy wielomian $c_2^{\\ast}$ $$c_2^{\\ast}=\\sum_{j=0}^{\\lfloor \\log_2 q\\rfloor+1}2^j c_2^{\\ast (j)}\\mod q$$\n",
    "\n",
    "**Krok 2 - generowanie wskazówek.** Dla $j=0,...,\\lfloor \\log_2 q\\rfloor+1$ z klucza prywatengo $s$ generujemy tzw. *wskazówki*: $$(ek_0^{(j)},ek_1^{(j)})=(a_js+te_j+2^js^2,-a_j),$$gdzie $a_j\\in R_q$ są generowane losowo z rozkładu jednostajnego a błedy $e_i\\in R_q$ - losowo z rozkładu typu Gaussowskiego (jak przy generowaniu kluczy).\n",
    "\n",
    "**Krok 3 - nowy szyfrogram.** Generujemy nowy szyfrogram $(\\widehat{c}_0,\\widehat{c}_1)$: $$\\widehat{c}_0=c_0^{\\ast}+\\sum_{j=0}^{\\lfloor \\log_2 q\\rfloor+1}ek_0^{(j)}c_2^{\\ast (j)}$$\n",
    "$$\\widehat{c}_1=c_1^{\\ast}+\\sum_{j=0}^{\\lfloor \\log_2 q\\rfloor+1}ek_1^{(j)}c_2^{\\ast (j)}$$\n",
    "\n",
    "Po zdeszyfrowaniu $(\\widehat{c}_0,\\widehat{c}_1)$ z kluczem $s$ powinniśmy otrzymać wiadomość będącą wynikiem mnożenia dwóch wiadomości $m_1$ i $m_2$."
   ]
  },
  {
   "cell_type": "markdown",
   "id": "44157d1e",
   "metadata": {},
   "source": [
    "## Zadanie 2.\n",
    "\n",
    "Zaimplementuj funkcje `Add`, `KeySwitch` oraz `Mul` realizujące powyższe algorytmy.\n",
    "- sprawdź działanie dodawania i mnożenia dla jednej operacji ($m_1+m_2, m_1*m_2$). Pamiętaj o wykorzystaniu funkcji `KeySwitch` przy mnożeniu. Dobierz parametry kryptosystemu tak, żeby po deszyfrowaniu otrzymać poprawne wyniki.\n",
    "- ile operacji dodawania możemy wykonać zanim narastające błędy spowodują błędne deszyfrowanie ($m_1+m_2+m_3+...$)?\n",
    "- a ile operacji mnożenia ($m_1*m_2*m_3*...$)?\n",
    "- sprawdź jak wygląda skuteczność deszyfrowania w przypadku mieszania operacji, np. $m_1*m_2+m_3$. Dla jakiej głębokości $N$ operacji mieszanych na wiadomościach deszyfrowanie jest poprawne?\n",
    "\n",
    "Przez głębokość $N$ operacji mieszanych rozumiemy kombinację postaci: iloczyn $N$ wiadomości plus iloczyn $N-1$ wiadomości plus iloczyn $N-2$ wiadomości plus ... plus iloczyn dwóch wiadomości plus jedna wiadomość.\n",
    "\n",
    "Otrzymane rezultaty (maksymalna głębokość operacji dodawania, operacji mnożenia i operacji mieszanych) opisz pełnym zdaniem w osobnej komórce pod testami."
   ]
  },
  {
   "cell_type": "code",
   "execution_count": 13,
   "id": "75662f3d",
   "metadata": {
    "ExecuteTime": {
     "end_time": "2024-04-15T14:20:44.203408200Z",
     "start_time": "2024-04-15T14:20:44.178464900Z"
    }
   },
   "outputs": [],
   "source": [
    "# Add\n",
    "def add_z17(c_x,c_y):\n",
    "    return (c_x[0]+c_y[0],c_x[1]+c_y[1])\n",
    "\n",
    "\n",
    "# KeySwitch\n",
    "pow_max = np.floor(np.log2(q)).astype(int)+1\n",
    "\n",
    "def key_switch(c_x,c_y,c_z):\n",
    "    W = np.zeros(shape = (c_z.poly.shape[0],pow_max))\n",
    "    \n",
    "    for i, w in enumerate(c_z.poly):\n",
    "        for j, wj in enumerate(bin(w)[-1:1:-1]):\n",
    "            W[i][j] = int(wj)\n",
    "    \n",
    "    C = [Z17(p[::-1]) for p in W.T]\n",
    "    \n",
    "    a = Z17(np.random.randint(q,size=n))\n",
    "    e = Z17(np.random.choice([-1,0,1],n,p=[0.,prob,1-prob]))\n",
    "    \n",
    "   \n",
    "        \n",
    "    \n",
    "    \n",
    "\n",
    "\n",
    "# Mul\n",
    "\n",
    "def mul_z17(c_x,c_y):\n",
    "    pass\n",
    "    \n"
   ]
  },
  {
   "cell_type": "code",
   "execution_count": 16,
   "outputs": [],
   "source": [
    "c_z = Z17(np.random.randint(q,size=n))\n",
    "kk = key_switch(None,None,c_z)"
   ],
   "metadata": {
    "collapsed": false,
    "ExecuteTime": {
     "end_time": "2024-04-15T14:21:22.630460300Z",
     "start_time": "2024-04-15T14:21:22.604834500Z"
    }
   },
   "id": "4b90cc807a3197b5"
  },
  {
   "cell_type": "markdown",
   "id": "482810db",
   "metadata": {},
   "source": [
    "### Opis rezultatów - TODO\n",
    "\n"
   ]
  },
  {
   "cell_type": "code",
   "execution_count": 12,
   "outputs": [],
   "source": [],
   "metadata": {
    "collapsed": false,
    "ExecuteTime": {
     "end_time": "2024-04-15T14:20:34.710733900Z",
     "start_time": "2024-04-15T14:20:34.704741400Z"
    }
   },
   "id": "388742db7b6421ea"
  }
 ],
 "metadata": {
  "kernelspec": {
   "display_name": "Python 3 (ipykernel)",
   "language": "python",
   "name": "python3"
  },
  "language_info": {
   "codemirror_mode": {
    "name": "ipython",
    "version": 3
   },
   "file_extension": ".py",
   "mimetype": "text/x-python",
   "name": "python",
   "nbconvert_exporter": "python",
   "pygments_lexer": "ipython3",
   "version": "3.11.5"
  }
 },
 "nbformat": 4,
 "nbformat_minor": 5
}
